{
 "cells": [
  {
   "cell_type": "code",
   "execution_count": 1,
   "id": "28a34012-b224-4d59-b247-8a945ae9d2c2",
   "metadata": {},
   "outputs": [],
   "source": [
    "import pandas as pd\n",
    "import numpy as np\n",
    "import matplotlib.pyplot as plt\n",
    "import lifetimes\n",
    "import seaborn as sns \n",
    "import math"
   ]
  },
  {
   "cell_type": "code",
   "execution_count": 2,
   "id": "ad8f9b5d-2ba2-4670-b6ef-029304b58edb",
   "metadata": {},
   "outputs": [],
   "source": [
    "df = pd.read_parquet(\"transactional_dataset_train.parquet\")"
   ]
  },
  {
   "cell_type": "code",
   "execution_count": 3,
   "id": "41e68bc2-ba25-4ba5-8254-492c8f6bc289",
   "metadata": {},
   "outputs": [
    {
     "data": {
      "text/html": [
       "<div>\n",
       "<style scoped>\n",
       "    .dataframe tbody tr th:only-of-type {\n",
       "        vertical-align: middle;\n",
       "    }\n",
       "\n",
       "    .dataframe tbody tr th {\n",
       "        vertical-align: top;\n",
       "    }\n",
       "\n",
       "    .dataframe thead th {\n",
       "        text-align: right;\n",
       "    }\n",
       "</style>\n",
       "<table border=\"1\" class=\"dataframe\">\n",
       "  <thead>\n",
       "    <tr style=\"text-align: right;\">\n",
       "      <th></th>\n",
       "      <th>account_id</th>\n",
       "      <th>event_time</th>\n",
       "      <th>amount</th>\n",
       "    </tr>\n",
       "  </thead>\n",
       "  <tbody>\n",
       "    <tr>\n",
       "      <th>0</th>\n",
       "      <td>132285932</td>\n",
       "      <td>2021-08-14 21:18:04.956</td>\n",
       "      <td>19.99</td>\n",
       "    </tr>\n",
       "    <tr>\n",
       "      <th>1</th>\n",
       "      <td>131792942</td>\n",
       "      <td>2021-08-14 21:28:33.266</td>\n",
       "      <td>9.99</td>\n",
       "    </tr>\n",
       "    <tr>\n",
       "      <th>2</th>\n",
       "      <td>180084640</td>\n",
       "      <td>2021-08-14 19:10:59.833</td>\n",
       "      <td>0.99</td>\n",
       "    </tr>\n",
       "    <tr>\n",
       "      <th>3</th>\n",
       "      <td>132486244</td>\n",
       "      <td>2021-08-14 20:35:14.897</td>\n",
       "      <td>9.99</td>\n",
       "    </tr>\n",
       "    <tr>\n",
       "      <th>4</th>\n",
       "      <td>131970262</td>\n",
       "      <td>2021-08-14 19:30:59.234</td>\n",
       "      <td>0.99</td>\n",
       "    </tr>\n",
       "  </tbody>\n",
       "</table>\n",
       "</div>"
      ],
      "text/plain": [
       "  account_id              event_time  amount\n",
       "0  132285932 2021-08-14 21:18:04.956   19.99\n",
       "1  131792942 2021-08-14 21:28:33.266    9.99\n",
       "2  180084640 2021-08-14 19:10:59.833    0.99\n",
       "3  132486244 2021-08-14 20:35:14.897    9.99\n",
       "4  131970262 2021-08-14 19:30:59.234    0.99"
      ]
     },
     "execution_count": 3,
     "metadata": {},
     "output_type": "execute_result"
    }
   ],
   "source": [
    "df.head()"
   ]
  },
  {
   "cell_type": "code",
   "execution_count": 4,
   "id": "8fb16a0c-fa69-496a-a021-7858dfe213e5",
   "metadata": {},
   "outputs": [
    {
     "data": {
      "text/plain": [
       "count    161075.000000\n",
       "mean          5.941833\n",
       "std           9.208794\n",
       "min           0.990000\n",
       "25%           1.990000\n",
       "50%           2.990000\n",
       "75%           4.990000\n",
       "max          99.990000\n",
       "Name: amount, dtype: float64"
      ]
     },
     "execution_count": 4,
     "metadata": {},
     "output_type": "execute_result"
    }
   ],
   "source": [
    "df[\"amount\"].describe()"
   ]
  },
  {
   "cell_type": "markdown",
   "id": "1e2d3c93-6d3b-473b-80fd-c795bf739686",
   "metadata": {},
   "source": [
    "# Dataset overview"
   ]
  },
  {
   "cell_type": "code",
   "execution_count": 5,
   "id": "2e503fa4-33c6-4743-ab17-5561647675cd",
   "metadata": {},
   "outputs": [
    {
     "name": "stdout",
     "output_type": "stream",
     "text": [
      "Time range of all transactions is from 2021-02-02 to 2021-08-20\n",
      "Total number of unique ID: 69858\n",
      "Total spend is: 957080.7100000001\n"
     ]
    }
   ],
   "source": [
    "maxdate = df[\"event_time\"].dt.date.max()\n",
    "mindate = df[\"event_time\"].dt.date.min()\n",
    "number_of_unique_customers = df[\"account_id\"].nunique()\n",
    "total_spend = df[\"amount\"].sum()\n",
    "\n",
    "print(f\"Time range of all transactions is from {mindate} to {maxdate}\")\n",
    "print(f\"Total number of unique ID: {number_of_unique_customers}\")\n",
    "print(f\"Total spend is: {total_spend}\")  "
   ]
  },
  {
   "cell_type": "markdown",
   "id": "0085e9bf-0bbd-4434-ab5f-19a8109f1be6",
   "metadata": {},
   "source": [
    "# Historical approach"
   ]
  },
  {
   "cell_type": "code",
   "execution_count": 6,
   "id": "07f3f2fd-8b0e-4bd0-adf1-b803ee5d1c50",
   "metadata": {},
   "outputs": [],
   "source": [
    "CLV_Historic = df.groupby(\"account_id\").agg({\"event_time\": lambda x: (df[\"event_time\"].max()-x.max()).days,\n",
    "                                            \"account_id\": lambda x: len(x),\n",
    "                                            \"amount\": lambda x: sum(x)})"
   ]
  },
  {
   "cell_type": "code",
   "execution_count": 7,
   "id": "632d7097-6e97-45ac-a707-ee72f8e57e52",
   "metadata": {},
   "outputs": [],
   "source": [
    "CLV_Historic.columns = [\"Age\",\"Frequency\",\"Total_amount\"]\n",
    "CLV_Historic.sort_values(by=\"Frequency\",ascending=False)\n",
    "CLV_Historic[\"type_of_buyer\"] = np.where(CLV_Historic[\"Frequency\"]==1,\"One_time\",\"more_than_one\")\n",
    "CLV_Historic[\"count\"] = np.where(CLV_Historic[\"type_of_buyer\"]==\"One_time\",1,0)\n"
   ]
  },
  {
   "cell_type": "code",
   "execution_count": 8,
   "id": "0f4b081a-a5ef-4d2c-937e-1242bdccedc0",
   "metadata": {},
   "outputs": [],
   "source": [
    "ln_Total=[]\n",
    "for i in range(0,len(CLV_Historic[\"Total_amount\"])):\n",
    "    ln_Total.append(math.log(CLV_Historic[\"Total_amount\"][i]))\n",
    "    \n",
    "CLV_Historic[\"Ln_Total_Amount\"]=ln_Total"
   ]
  },
  {
   "cell_type": "code",
   "execution_count": 9,
   "id": "7709e10f-2021-44d1-959d-dcb48630a79f",
   "metadata": {},
   "outputs": [],
   "source": [
    "ln_Total_F=[]\n",
    "for i in range(0,len(CLV_Historic[\"Frequency\"])):\n",
    "    ln_Total_F.append(math.log(CLV_Historic[\"Frequency\"][i]))\n",
    "    \n",
    "CLV_Historic[\"Ln_Frequency\"]=ln_Total_F"
   ]
  },
  {
   "cell_type": "code",
   "execution_count": 10,
   "id": "573da45e-5a7c-4a9d-9461-ce055995eb42",
   "metadata": {},
   "outputs": [
    {
     "data": {
      "text/html": [
       "<div>\n",
       "<style scoped>\n",
       "    .dataframe tbody tr th:only-of-type {\n",
       "        vertical-align: middle;\n",
       "    }\n",
       "\n",
       "    .dataframe tbody tr th {\n",
       "        vertical-align: top;\n",
       "    }\n",
       "\n",
       "    .dataframe thead th {\n",
       "        text-align: right;\n",
       "    }\n",
       "</style>\n",
       "<table border=\"1\" class=\"dataframe\">\n",
       "  <thead>\n",
       "    <tr style=\"text-align: right;\">\n",
       "      <th></th>\n",
       "      <th>Age</th>\n",
       "      <th>Frequency</th>\n",
       "      <th>Total_amount</th>\n",
       "      <th>type_of_buyer</th>\n",
       "      <th>count</th>\n",
       "      <th>Ln_Total_Amount</th>\n",
       "      <th>Ln_Frequency</th>\n",
       "    </tr>\n",
       "    <tr>\n",
       "      <th>account_id</th>\n",
       "      <th></th>\n",
       "      <th></th>\n",
       "      <th></th>\n",
       "      <th></th>\n",
       "      <th></th>\n",
       "      <th></th>\n",
       "      <th></th>\n",
       "    </tr>\n",
       "  </thead>\n",
       "  <tbody>\n",
       "    <tr>\n",
       "      <th>98491143</th>\n",
       "      <td>174</td>\n",
       "      <td>104</td>\n",
       "      <td>2756.96</td>\n",
       "      <td>more_than_one</td>\n",
       "      <td>0</td>\n",
       "      <td>7.921884</td>\n",
       "      <td>4.644391</td>\n",
       "    </tr>\n",
       "    <tr>\n",
       "      <th>167529481</th>\n",
       "      <td>57</td>\n",
       "      <td>97</td>\n",
       "      <td>1214.03</td>\n",
       "      <td>more_than_one</td>\n",
       "      <td>0</td>\n",
       "      <td>7.101701</td>\n",
       "      <td>4.574711</td>\n",
       "    </tr>\n",
       "    <tr>\n",
       "      <th>113958422</th>\n",
       "      <td>84</td>\n",
       "      <td>89</td>\n",
       "      <td>2655.11</td>\n",
       "      <td>more_than_one</td>\n",
       "      <td>0</td>\n",
       "      <td>7.884241</td>\n",
       "      <td>4.488636</td>\n",
       "    </tr>\n",
       "    <tr>\n",
       "      <th>169616730</th>\n",
       "      <td>47</td>\n",
       "      <td>83</td>\n",
       "      <td>2854.17</td>\n",
       "      <td>more_than_one</td>\n",
       "      <td>0</td>\n",
       "      <td>7.956536</td>\n",
       "      <td>4.418841</td>\n",
       "    </tr>\n",
       "    <tr>\n",
       "      <th>123433842</th>\n",
       "      <td>41</td>\n",
       "      <td>81</td>\n",
       "      <td>735.19</td>\n",
       "      <td>more_than_one</td>\n",
       "      <td>0</td>\n",
       "      <td>6.600129</td>\n",
       "      <td>4.394449</td>\n",
       "    </tr>\n",
       "  </tbody>\n",
       "</table>\n",
       "</div>"
      ],
      "text/plain": [
       "            Age  Frequency  Total_amount  type_of_buyer  count  \\\n",
       "account_id                                                       \n",
       "98491143    174        104       2756.96  more_than_one      0   \n",
       "167529481    57         97       1214.03  more_than_one      0   \n",
       "113958422    84         89       2655.11  more_than_one      0   \n",
       "169616730    47         83       2854.17  more_than_one      0   \n",
       "123433842    41         81        735.19  more_than_one      0   \n",
       "\n",
       "            Ln_Total_Amount  Ln_Frequency  \n",
       "account_id                                 \n",
       "98491143           7.921884      4.644391  \n",
       "167529481          7.101701      4.574711  \n",
       "113958422          7.884241      4.488636  \n",
       "169616730          7.956536      4.418841  \n",
       "123433842          6.600129      4.394449  "
      ]
     },
     "execution_count": 10,
     "metadata": {},
     "output_type": "execute_result"
    }
   ],
   "source": [
    "CLV_Historic.sort_values(by=\"Frequency\",ascending = False).head()"
   ]
  },
  {
   "cell_type": "code",
   "execution_count": 11,
   "id": "47951d33-7bb1-442d-afff-c4d11e7e2687",
   "metadata": {},
   "outputs": [
    {
     "data": {
      "text/html": [
       "<div>\n",
       "<style scoped>\n",
       "    .dataframe tbody tr th:only-of-type {\n",
       "        vertical-align: middle;\n",
       "    }\n",
       "\n",
       "    .dataframe tbody tr th {\n",
       "        vertical-align: top;\n",
       "    }\n",
       "\n",
       "    .dataframe thead th {\n",
       "        text-align: right;\n",
       "    }\n",
       "</style>\n",
       "<table border=\"1\" class=\"dataframe\">\n",
       "  <thead>\n",
       "    <tr style=\"text-align: right;\">\n",
       "      <th></th>\n",
       "      <th>Age</th>\n",
       "      <th>Frequency</th>\n",
       "      <th>Total_amount</th>\n",
       "      <th>type_of_buyer</th>\n",
       "      <th>count</th>\n",
       "      <th>Ln_Total_Amount</th>\n",
       "      <th>Ln_Frequency</th>\n",
       "    </tr>\n",
       "    <tr>\n",
       "      <th>account_id</th>\n",
       "      <th></th>\n",
       "      <th></th>\n",
       "      <th></th>\n",
       "      <th></th>\n",
       "      <th></th>\n",
       "      <th></th>\n",
       "      <th></th>\n",
       "    </tr>\n",
       "  </thead>\n",
       "  <tbody>\n",
       "    <tr>\n",
       "      <th>130423134</th>\n",
       "      <td>12</td>\n",
       "      <td>1</td>\n",
       "      <td>99.99</td>\n",
       "      <td>One_time</td>\n",
       "      <td>1</td>\n",
       "      <td>4.60507</td>\n",
       "      <td>0.0</td>\n",
       "    </tr>\n",
       "    <tr>\n",
       "      <th>99779802</th>\n",
       "      <td>160</td>\n",
       "      <td>1</td>\n",
       "      <td>99.99</td>\n",
       "      <td>One_time</td>\n",
       "      <td>1</td>\n",
       "      <td>4.60507</td>\n",
       "      <td>0.0</td>\n",
       "    </tr>\n",
       "    <tr>\n",
       "      <th>157045881</th>\n",
       "      <td>104</td>\n",
       "      <td>1</td>\n",
       "      <td>99.99</td>\n",
       "      <td>One_time</td>\n",
       "      <td>1</td>\n",
       "      <td>4.60507</td>\n",
       "      <td>0.0</td>\n",
       "    </tr>\n",
       "    <tr>\n",
       "      <th>151135420</th>\n",
       "      <td>128</td>\n",
       "      <td>1</td>\n",
       "      <td>99.99</td>\n",
       "      <td>One_time</td>\n",
       "      <td>1</td>\n",
       "      <td>4.60507</td>\n",
       "      <td>0.0</td>\n",
       "    </tr>\n",
       "    <tr>\n",
       "      <th>129463743</th>\n",
       "      <td>17</td>\n",
       "      <td>1</td>\n",
       "      <td>99.99</td>\n",
       "      <td>One_time</td>\n",
       "      <td>1</td>\n",
       "      <td>4.60507</td>\n",
       "      <td>0.0</td>\n",
       "    </tr>\n",
       "  </tbody>\n",
       "</table>\n",
       "</div>"
      ],
      "text/plain": [
       "            Age  Frequency  Total_amount type_of_buyer  count  \\\n",
       "account_id                                                      \n",
       "130423134    12          1         99.99      One_time      1   \n",
       "99779802    160          1         99.99      One_time      1   \n",
       "157045881   104          1         99.99      One_time      1   \n",
       "151135420   128          1         99.99      One_time      1   \n",
       "129463743    17          1         99.99      One_time      1   \n",
       "\n",
       "            Ln_Total_Amount  Ln_Frequency  \n",
       "account_id                                 \n",
       "130423134           4.60507           0.0  \n",
       "99779802            4.60507           0.0  \n",
       "157045881           4.60507           0.0  \n",
       "151135420           4.60507           0.0  \n",
       "129463743           4.60507           0.0  "
      ]
     },
     "execution_count": 11,
     "metadata": {},
     "output_type": "execute_result"
    }
   ],
   "source": [
    "CLV_Historic_one_time_buyers = CLV_Historic[CLV_Historic[\"count\"]==1]\n",
    "CLV_Historic_one_time_buyers.sort_values(by=\"Total_amount\",ascending=False).head()"
   ]
  },
  {
   "cell_type": "code",
   "execution_count": 12,
   "id": "76607653-e9ca-4a9f-9fcb-54635fff577d",
   "metadata": {},
   "outputs": [
    {
     "data": {
      "text/html": [
       "<div>\n",
       "<style scoped>\n",
       "    .dataframe tbody tr th:only-of-type {\n",
       "        vertical-align: middle;\n",
       "    }\n",
       "\n",
       "    .dataframe tbody tr th {\n",
       "        vertical-align: top;\n",
       "    }\n",
       "\n",
       "    .dataframe thead th {\n",
       "        text-align: right;\n",
       "    }\n",
       "</style>\n",
       "<table border=\"1\" class=\"dataframe\">\n",
       "  <thead>\n",
       "    <tr style=\"text-align: right;\">\n",
       "      <th></th>\n",
       "      <th>Age</th>\n",
       "      <th>Frequency</th>\n",
       "      <th>Total_amount</th>\n",
       "      <th>type_of_buyer</th>\n",
       "      <th>count</th>\n",
       "      <th>Ln_Total_Amount</th>\n",
       "      <th>Ln_Frequency</th>\n",
       "    </tr>\n",
       "    <tr>\n",
       "      <th>account_id</th>\n",
       "      <th></th>\n",
       "      <th></th>\n",
       "      <th></th>\n",
       "      <th></th>\n",
       "      <th></th>\n",
       "      <th></th>\n",
       "      <th></th>\n",
       "    </tr>\n",
       "  </thead>\n",
       "  <tbody>\n",
       "    <tr>\n",
       "      <th>169616730</th>\n",
       "      <td>47</td>\n",
       "      <td>83</td>\n",
       "      <td>2854.17</td>\n",
       "      <td>more_than_one</td>\n",
       "      <td>0</td>\n",
       "      <td>7.956536</td>\n",
       "      <td>4.418841</td>\n",
       "    </tr>\n",
       "    <tr>\n",
       "      <th>98491143</th>\n",
       "      <td>174</td>\n",
       "      <td>104</td>\n",
       "      <td>2756.96</td>\n",
       "      <td>more_than_one</td>\n",
       "      <td>0</td>\n",
       "      <td>7.921884</td>\n",
       "      <td>4.644391</td>\n",
       "    </tr>\n",
       "    <tr>\n",
       "      <th>113958422</th>\n",
       "      <td>84</td>\n",
       "      <td>89</td>\n",
       "      <td>2655.11</td>\n",
       "      <td>more_than_one</td>\n",
       "      <td>0</td>\n",
       "      <td>7.884241</td>\n",
       "      <td>4.488636</td>\n",
       "    </tr>\n",
       "    <tr>\n",
       "      <th>125162993</th>\n",
       "      <td>34</td>\n",
       "      <td>80</td>\n",
       "      <td>1984.20</td>\n",
       "      <td>more_than_one</td>\n",
       "      <td>0</td>\n",
       "      <td>7.592971</td>\n",
       "      <td>4.382027</td>\n",
       "    </tr>\n",
       "    <tr>\n",
       "      <th>101436153</th>\n",
       "      <td>144</td>\n",
       "      <td>56</td>\n",
       "      <td>1891.44</td>\n",
       "      <td>more_than_one</td>\n",
       "      <td>0</td>\n",
       "      <td>7.545094</td>\n",
       "      <td>4.025352</td>\n",
       "    </tr>\n",
       "  </tbody>\n",
       "</table>\n",
       "</div>"
      ],
      "text/plain": [
       "            Age  Frequency  Total_amount  type_of_buyer  count  \\\n",
       "account_id                                                       \n",
       "169616730    47         83       2854.17  more_than_one      0   \n",
       "98491143    174        104       2756.96  more_than_one      0   \n",
       "113958422    84         89       2655.11  more_than_one      0   \n",
       "125162993    34         80       1984.20  more_than_one      0   \n",
       "101436153   144         56       1891.44  more_than_one      0   \n",
       "\n",
       "            Ln_Total_Amount  Ln_Frequency  \n",
       "account_id                                 \n",
       "169616730          7.956536      4.418841  \n",
       "98491143           7.921884      4.644391  \n",
       "113958422          7.884241      4.488636  \n",
       "125162993          7.592971      4.382027  \n",
       "101436153          7.545094      4.025352  "
      ]
     },
     "execution_count": 12,
     "metadata": {},
     "output_type": "execute_result"
    }
   ],
   "source": [
    "CLV_Historic_only_more_than_one = CLV_Historic[CLV_Historic[\"count\"]!=1]\n",
    "CLV_Historic_only_more_than_one.sort_values(by=\"Total_amount\",ascending=False).head()"
   ]
  },
  {
   "cell_type": "code",
   "execution_count": 13,
   "id": "0555103a-937d-45d3-84bf-6b97b5668dc2",
   "metadata": {},
   "outputs": [
    {
     "name": "stdout",
     "output_type": "stream",
     "text": [
      "count    39865.000000\n",
      "mean         3.247722\n",
      "std          4.699702\n",
      "min          0.990000\n",
      "25%          0.990000\n",
      "50%          2.990000\n",
      "99%         19.990000\n",
      "max         99.990000\n",
      "Name: Total_amount, dtype: float64\n",
      "repetitive\n",
      "count    29993.000000\n",
      "mean        27.593447\n",
      "std         64.767596\n",
      "min          1.980000\n",
      "25%          5.980000\n",
      "50%         12.940000\n",
      "95%         91.954000\n",
      "max       2854.170000\n",
      "Name: Total_amount, dtype: float64\n",
      "count    69858.000000\n",
      "mean        13.700374\n",
      "std         44.258498\n",
      "min          0.990000\n",
      "25%          1.990000\n",
      "50%          3.980000\n",
      "99%        151.928600\n",
      "max       2854.170000\n",
      "Name: Total_amount, dtype: float64\n",
      "count    69858.000000\n",
      "mean        13.700374\n",
      "std         44.258498\n",
      "min          0.990000\n",
      "25%          1.990000\n",
      "50%          3.980000\n",
      "75%          9.990000\n",
      "max       2854.170000\n",
      "Name: Total_amount, dtype: float64\n"
     ]
    }
   ],
   "source": [
    "print(CLV_Historic_one_time_buyers[\"Total_amount\"].describe(percentiles = [.25,.5,.99]))\n",
    "print(\"repetitive\")\n",
    "print(CLV_Historic_only_more_than_one[\"Total_amount\"].describe(percentiles = [.25,.5,.95]))\n",
    "print(CLV_Historic[\"Total_amount\"].describe(percentiles = [.25,.5,.99]))\n",
    "print(CLV_Historic[\"Total_amount\"].describe())"
   ]
  },
  {
   "cell_type": "code",
   "execution_count": 44,
   "id": "15d4fd50-9fe3-47ef-988a-7516bcfcea71",
   "metadata": {},
   "outputs": [
    {
     "data": {
      "text/plain": [
       "<AxesSubplot:xlabel='Total_amount', ylabel='Density'>"
      ]
     },
     "execution_count": 44,
     "metadata": {},
     "output_type": "execute_result"
    },
    {
     "data": {
      "image/png": "[encoded data removed]",
      "text/plain": [
       "<Figure size 1080x360 with 2 Axes>"
      ]
     },
     "metadata": {},
     "output_type": "display_data"
    }
   ],
   "source": [
    "# grafy s vyuzitim logaritmickej skaly pomocou prirodzeneho logaritmu\n",
    "fig, axes = plt.subplots(1, 2, figsize=(15, 5), sharey=False,sharex=False)\n",
    "fig.suptitle('Množstvo minutých peňažných prostriedkov One time buyers vs repetitive buyers')\n",
    "sns.set_theme(style=\"whitegrid\",palette=\"colorblind\")\n",
    "sns.kdeplot(x=CLV_Historic[\"Ln_Total_Amount\"],ax=axes[0],fill=True) # more than one times\n",
    "sns.kdeplot(x=CLV_Historic[\"\"],fill=True,ax=axes[1])"
   ]
  },
  {
   "cell_type": "code",
   "execution_count": 15,
   "id": "07675bf9-5e52-4ba6-aa81-5adbc609f75e",
   "metadata": {},
   "outputs": [
    {
     "data": {
      "text/plain": [
       "<AxesSubplot:xlabel='Ln_Total_Amount', ylabel='Density'>"
      ]
     },
     "execution_count": 15,
     "metadata": {},
     "output_type": "execute_result"
    },
    {
     "data": {
      "image/png": "[encoded data removed]",
      "text/plain": [
       "<Figure size 1080x360 with 2 Axes>"
      ]
     },
     "metadata": {},
     "output_type": "display_data"
    }
   ],
   "source": [
    "# grafy s vyuzitim logaritmickej skaly pomocou prirodzeneho logaritmu\n",
    "fig, axes = plt.subplots(1, 2, figsize=(15, 5), sharey=False,sharex=False)\n",
    "fig.suptitle('Množstvo minutých peňažných prostriedkov One time buyers vs repetitive buyers')\n",
    "sns.set_theme(style=\"whitegrid\",palette=\"colorblind\")\n",
    "sns.histplot(x=CLV_Historic[\"Ln_Total_Amount\"],ax=axes[0],bins=10) # all buyers\n",
    "sns.kdeplot(x=CLV_Historic[\"Ln_Total_Amount\"],ax=axes[1],fill=True,hue=CLV_Historic[\"type_of_buyer\"])"
   ]
  },
  {
   "cell_type": "code",
   "execution_count": 59,
   "id": "3caab4e5-6795-4f27-91d7-71ca2c8b3c06",
   "metadata": {},
   "outputs": [
    {
     "data": {
      "text/plain": [
       "<AxesSubplot:xlabel='Ln_Total_Amount', ylabel='Count'>"
      ]
     },
     "execution_count": 59,
     "metadata": {},
     "output_type": "execute_result"
    },
    {
     "data": {
      "image/png": "[encoded data removed]",
      "text/plain": [
       "<Figure size 1080x360 with 2 Axes>"
      ]
     },
     "metadata": {},
     "output_type": "display_data"
    }
   ],
   "source": [
    "# grafy s vyuzitim logaritmickej skaly pomocou prirodzeneho logaritmu\n",
    "fig, axes = plt.subplots(1, 2, figsize=(15, 5), sharey=False,sharex=False)\n",
    "fig.suptitle('Distribúcia peňažných prostriedkov a frekvencie nákupov jednotlivých zákazníkov s využitím logaritmickej mierky')\n",
    "sns.set_theme(style=\"whitegrid\",palette=\"colorblind\")\n",
    "sns.histplot(x=CLV_Historic[\"Ln_Frequency\"],ax=axes[0],bins=10) # all buyers\n",
    "sns.histplot(x=CLV_Historic[\"Ln_Total_Amount\"],ax=axes[1],bins=10)"
   ]
  },
  {
   "cell_type": "code",
   "execution_count": 61,
   "id": "16aca222-502b-4069-8073-4abbd0c46cf1",
   "metadata": {},
   "outputs": [
    {
     "data": {
      "text/plain": [
       "<AxesSubplot:xlabel='Ln_Total_Amount', ylabel='Count'>"
      ]
     },
     "execution_count": 61,
     "metadata": {},
     "output_type": "execute_result"
    },
    {
     "data": {
      "image/png": "[encoded data removed]",
      "text/plain": [
       "<Figure size 432x288 with 1 Axes>"
      ]
     },
     "metadata": {},
     "output_type": "display_data"
    }
   ],
   "source": [
    "sns.set_theme(style=\"whitegrid\",palette=\"colorblind\")\n",
    "sns.histplot(x=CLV_Historic[\"Ln_Total_Amount\"],bins=10)"
   ]
  },
  {
   "cell_type": "code",
   "execution_count": 16,
   "id": "0f63c505-30a4-4218-8951-735906d22ff3",
   "metadata": {},
   "outputs": [
    {
     "data": {
      "text/plain": [
       "<AxesSubplot:ylabel='Total_amount'>"
      ]
     },
     "execution_count": 16,
     "metadata": {},
     "output_type": "execute_result"
    },
    {
     "data": {
      "image/png": "[encoded data removed]",
      "text/plain": [
       "<Figure size 432x288 with 1 Axes>"
      ]
     },
     "metadata": {},
     "output_type": "display_data"
    }
   ],
   "source": [
    "sns.boxplot(y=CLV_Historic_only_more_than_one[\"Total_amount\"][CLV_Historic_only_more_than_one[\"Total_amount\"]<150])"
   ]
  },
  {
   "cell_type": "code",
   "execution_count": 17,
   "id": "dbc5d3be-1a42-49c4-a796-1f48eb6f310e",
   "metadata": {},
   "outputs": [
    {
     "name": "stdout",
     "output_type": "stream",
     "text": [
      "Average_amount: 13.7\n",
      "Average Frequency: 2.31\n",
      "Retention rate: 42.93%\n",
      "Churn rate: 57.0%\n"
     ]
    }
   ],
   "source": [
    "Average_amount = round(np.mean(CLV_Historic.Total_amount),2)\n",
    "print(f\"Average_amount: {Average_amount}\")\n",
    "\n",
    "Frequency = round(np.mean(CLV_Historic.Frequency),2)\n",
    "print(f\"Average Frequency: {Frequency}\")\n",
    "\n",
    "Retention_rate = CLV_Historic[CLV_Historic[\"Frequency\"]>1].shape[0]/CLV_Historic.shape[0]\n",
    "churn = round(1-Retention_rate,2)\n",
    "print(f\"Retention rate: {round(Retention_rate*100,2)}%\")\n",
    "print(f\"Churn rate: {round(churn*100,2)}%\")"
   ]
  },
  {
   "cell_type": "code",
   "execution_count": 18,
   "id": "70a3ae37-c3d2-4536-99e2-554f2f6bb1d5",
   "metadata": {},
   "outputs": [
    {
     "name": "stdout",
     "output_type": "stream",
     "text": [
      "customer lifetime value: 2.78\n"
     ]
    }
   ],
   "source": [
    "Profit_margin = 0.05\n",
    "\n",
    "CLV = round((Average_amount*Frequency/churn)*Profit_margin,2)\n",
    "print(f\"customer lifetime value: {CLV}\")"
   ]
  },
  {
   "cell_type": "code",
   "execution_count": 19,
   "id": "77748310-93ff-4d40-81ea-0af36a7b29b8",
   "metadata": {},
   "outputs": [
    {
     "data": {
      "text/plain": [
       "count    69858.000000\n",
       "mean         2.305749\n",
       "std          2.965724\n",
       "min          1.000000\n",
       "25%          1.000000\n",
       "50%          1.000000\n",
       "99%         14.000000\n",
       "max        104.000000\n",
       "Name: Frequency, dtype: float64"
      ]
     },
     "execution_count": 19,
     "metadata": {},
     "output_type": "execute_result"
    }
   ],
   "source": [
    "CLV_Historic[\"Frequency\"].describe(percentiles  = [.25,.5,.99])"
   ]
  },
  {
   "cell_type": "code",
   "execution_count": 20,
   "id": "e4ab67e5-a3f7-4d6e-a1da-0662db7dccc9",
   "metadata": {},
   "outputs": [
    {
     "data": {
      "text/plain": [
       "count    69858.000000\n",
       "mean        13.700374\n",
       "std         44.258498\n",
       "min          0.990000\n",
       "25%          1.990000\n",
       "50%          3.980000\n",
       "99%        151.928600\n",
       "max       2854.170000\n",
       "Name: Total_amount, dtype: float64"
      ]
     },
     "execution_count": 20,
     "metadata": {},
     "output_type": "execute_result"
    }
   ],
   "source": [
    "CLV_Historic[\"Total_amount\"].describe(percentiles = [.25,.5,.99])"
   ]
  },
  {
   "cell_type": "markdown",
   "id": "384cd1f5-fe75-47aa-853d-826d954842aa",
   "metadata": {},
   "source": [
    "# Cohort model with cut and qcut"
   ]
  },
  {
   "cell_type": "code",
   "execution_count": 21,
   "id": "66a50ba4-fae3-4a4d-8522-b5ca87bcc63b",
   "metadata": {},
   "outputs": [],
   "source": [
    "CLV_Cohort = CLV_Historic"
   ]
  },
  {
   "cell_type": "code",
   "execution_count": 22,
   "id": "65dc6793-5ad9-427d-b507-d2856106fde1",
   "metadata": {},
   "outputs": [
    {
     "data": {
      "text/html": [
       "<div>\n",
       "<style scoped>\n",
       "    .dataframe tbody tr th:only-of-type {\n",
       "        vertical-align: middle;\n",
       "    }\n",
       "\n",
       "    .dataframe tbody tr th {\n",
       "        vertical-align: top;\n",
       "    }\n",
       "\n",
       "    .dataframe thead th {\n",
       "        text-align: right;\n",
       "    }\n",
       "</style>\n",
       "<table border=\"1\" class=\"dataframe\">\n",
       "  <thead>\n",
       "    <tr style=\"text-align: right;\">\n",
       "      <th></th>\n",
       "      <th>Age</th>\n",
       "      <th>Frequency</th>\n",
       "      <th>Total_amount</th>\n",
       "      <th>type_of_buyer</th>\n",
       "      <th>count</th>\n",
       "      <th>Ln_Total_Amount</th>\n",
       "      <th>Ln_Frequency</th>\n",
       "    </tr>\n",
       "    <tr>\n",
       "      <th>account_id</th>\n",
       "      <th></th>\n",
       "      <th></th>\n",
       "      <th></th>\n",
       "      <th></th>\n",
       "      <th></th>\n",
       "      <th></th>\n",
       "      <th></th>\n",
       "    </tr>\n",
       "  </thead>\n",
       "  <tbody>\n",
       "    <tr>\n",
       "      <th>100000423</th>\n",
       "      <td>159</td>\n",
       "      <td>1</td>\n",
       "      <td>9.99</td>\n",
       "      <td>One_time</td>\n",
       "      <td>1</td>\n",
       "      <td>2.301585</td>\n",
       "      <td>0.000000</td>\n",
       "    </tr>\n",
       "    <tr>\n",
       "      <th>100001374</th>\n",
       "      <td>158</td>\n",
       "      <td>1</td>\n",
       "      <td>2.99</td>\n",
       "      <td>One_time</td>\n",
       "      <td>1</td>\n",
       "      <td>1.095273</td>\n",
       "      <td>0.000000</td>\n",
       "    </tr>\n",
       "    <tr>\n",
       "      <th>100001463</th>\n",
       "      <td>160</td>\n",
       "      <td>1</td>\n",
       "      <td>0.99</td>\n",
       "      <td>One_time</td>\n",
       "      <td>1</td>\n",
       "      <td>-0.010050</td>\n",
       "      <td>0.000000</td>\n",
       "    </tr>\n",
       "    <tr>\n",
       "      <th>100001654</th>\n",
       "      <td>160</td>\n",
       "      <td>3</td>\n",
       "      <td>6.99</td>\n",
       "      <td>more_than_one</td>\n",
       "      <td>0</td>\n",
       "      <td>1.944481</td>\n",
       "      <td>1.098612</td>\n",
       "    </tr>\n",
       "    <tr>\n",
       "      <th>100003092</th>\n",
       "      <td>158</td>\n",
       "      <td>1</td>\n",
       "      <td>0.99</td>\n",
       "      <td>One_time</td>\n",
       "      <td>1</td>\n",
       "      <td>-0.010050</td>\n",
       "      <td>0.000000</td>\n",
       "    </tr>\n",
       "  </tbody>\n",
       "</table>\n",
       "</div>"
      ],
      "text/plain": [
       "            Age  Frequency  Total_amount  type_of_buyer  count  \\\n",
       "account_id                                                       \n",
       "100000423   159          1          9.99       One_time      1   \n",
       "100001374   158          1          2.99       One_time      1   \n",
       "100001463   160          1          0.99       One_time      1   \n",
       "100001654   160          3          6.99  more_than_one      0   \n",
       "100003092   158          1          0.99       One_time      1   \n",
       "\n",
       "            Ln_Total_Amount  Ln_Frequency  \n",
       "account_id                                 \n",
       "100000423          2.301585      0.000000  \n",
       "100001374          1.095273      0.000000  \n",
       "100001463         -0.010050      0.000000  \n",
       "100001654          1.944481      1.098612  \n",
       "100003092         -0.010050      0.000000  "
      ]
     },
     "execution_count": 22,
     "metadata": {},
     "output_type": "execute_result"
    }
   ],
   "source": [
    "CLV_Cohort.head()"
   ]
  },
  {
   "cell_type": "code",
   "execution_count": 23,
   "id": "f96b0b2a-9c31-495b-b62b-ce7be583bd9a",
   "metadata": {},
   "outputs": [],
   "source": [
    "bins_range = [0.99,20,50,104]\n",
    "bins_labels = [\"basic\",\"advanced\",\"pro\"]"
   ]
  },
  {
   "cell_type": "code",
   "execution_count": 24,
   "id": "9d3c0cdd-ecad-49e4-a359-89e347ecb2d2",
   "metadata": {},
   "outputs": [],
   "source": [
    "CLV_Cohort[\"level\"] = pd.cut(CLV_Cohort[\"Frequency\"],bins = bins_range,labels = bins_labels)"
   ]
  },
  {
   "cell_type": "code",
   "execution_count": 25,
   "id": "5924a490-7432-4e03-b715-2f427ed2740b",
   "metadata": {},
   "outputs": [
    {
     "data": {
      "text/plain": [
       "(0.989, 1.99]      20711\n",
       "(9.99, 2854.17]    17418\n",
       "(3.98, 9.99]       16522\n",
       "(1.99, 3.98]       15207\n",
       "Name: Total_amount, dtype: int64"
      ]
     },
     "execution_count": 25,
     "metadata": {},
     "output_type": "execute_result"
    }
   ],
   "source": [
    "pd.qcut(CLV_Cohort[\"Total_amount\"],q=4).value_counts() # rovnomerne tozlozenie hracov "
   ]
  },
  {
   "cell_type": "code",
   "execution_count": 26,
   "id": "a4de04bd-3441-49cb-b02e-48a5346fbc37",
   "metadata": {},
   "outputs": [
    {
     "name": "stdout",
     "output_type": "stream",
     "text": [
      "reteniton rate 0.42722701149425285\n",
      "number of repetitive buyers 29735\n",
      "number of all buyers in this cohort69600\n",
      "reteniton rate 1.0\n",
      "number of repetitive buyers 241\n",
      "number of all buyers in this cohort241\n",
      "reteniton rate 1.0\n",
      "number of repetitive buyers 17\n",
      "number of all buyers in this cohort17\n"
     ]
    },
    {
     "name": "stderr",
     "output_type": "stream",
     "text": [
      "C:\\Users\\fpolo\\AppData\\Local\\Temp/ipykernel_25868/1151116213.py:16: RuntimeWarning: divide by zero encountered in double_scalars\n",
      "  CLV = round(((average_sales*Purchase_frequency/churn))*Profit_margin,2)\n"
     ]
    }
   ],
   "source": [
    "iterate = [\"basic\",\"advanced\",\"pro\"] \n",
    "Cohorts_CLV=[]\n",
    "for i in range(0,3):\n",
    "    customer_m = CLV_Cohort[CLV_Cohort[\"level\"]==iterate[i]]\n",
    "    \n",
    "    average_sales = round(np.mean(customer_m[\"Total_amount\"]),2)\n",
    "    \n",
    "    Purchase_frequency = round(np.mean(customer_m[\"Frequency\"]),2)\n",
    "    \n",
    "    Retention_rate = customer_m[customer_m[\"Frequency\"]>1].shape[0]/customer_m.shape[0]\n",
    "    print(f\"reteniton rate {Retention_rate}\")\n",
    "    print(f\"number of repetitive buyers {customer_m[customer_m['Frequency']>1].shape[0]}\")\n",
    "    print(f\"number of all buyers in this cohort{customer_m.shape[0]}\")\n",
    "    churn = 1 - Retention_rate\n",
    "    \n",
    "    CLV = round(((average_sales*Purchase_frequency/churn))*Profit_margin,2)\n",
    "    \n",
    "    Cohorts_CLV.append(CLV)\n",
    "                                "
   ]
  },
  {
   "cell_type": "markdown",
   "id": "8ad3a2fa-49e6-4117-8ab9-f6a451f5fa41",
   "metadata": {},
   "source": [
    "# Cohort model with months "
   ]
  },
  {
   "cell_type": "code",
   "execution_count": 27,
   "id": "fc634d70-8150-410b-8af2-7df4a3738d63",
   "metadata": {},
   "outputs": [
    {
     "data": {
      "text/html": [
       "<div>\n",
       "<style scoped>\n",
       "    .dataframe tbody tr th:only-of-type {\n",
       "        vertical-align: middle;\n",
       "    }\n",
       "\n",
       "    .dataframe tbody tr th {\n",
       "        vertical-align: top;\n",
       "    }\n",
       "\n",
       "    .dataframe thead th {\n",
       "        text-align: right;\n",
       "    }\n",
       "</style>\n",
       "<table border=\"1\" class=\"dataframe\">\n",
       "  <thead>\n",
       "    <tr style=\"text-align: right;\">\n",
       "      <th></th>\n",
       "      <th>Start_month</th>\n",
       "      <th>Frequency</th>\n",
       "      <th>Total_amount</th>\n",
       "    </tr>\n",
       "    <tr>\n",
       "      <th>account_id</th>\n",
       "      <th></th>\n",
       "      <th></th>\n",
       "      <th></th>\n",
       "    </tr>\n",
       "  </thead>\n",
       "  <tbody>\n",
       "    <tr>\n",
       "      <th>100000423</th>\n",
       "      <td>3</td>\n",
       "      <td>1</td>\n",
       "      <td>9.99</td>\n",
       "    </tr>\n",
       "    <tr>\n",
       "      <th>100001374</th>\n",
       "      <td>3</td>\n",
       "      <td>1</td>\n",
       "      <td>2.99</td>\n",
       "    </tr>\n",
       "    <tr>\n",
       "      <th>100001463</th>\n",
       "      <td>3</td>\n",
       "      <td>1</td>\n",
       "      <td>0.99</td>\n",
       "    </tr>\n",
       "    <tr>\n",
       "      <th>100001654</th>\n",
       "      <td>3</td>\n",
       "      <td>3</td>\n",
       "      <td>6.99</td>\n",
       "    </tr>\n",
       "    <tr>\n",
       "      <th>100003092</th>\n",
       "      <td>3</td>\n",
       "      <td>1</td>\n",
       "      <td>0.99</td>\n",
       "    </tr>\n",
       "    <tr>\n",
       "      <th>...</th>\n",
       "      <td>...</td>\n",
       "      <td>...</td>\n",
       "      <td>...</td>\n",
       "    </tr>\n",
       "    <tr>\n",
       "      <th>99995053</th>\n",
       "      <td>3</td>\n",
       "      <td>2</td>\n",
       "      <td>22.98</td>\n",
       "    </tr>\n",
       "    <tr>\n",
       "      <th>99995304</th>\n",
       "      <td>3</td>\n",
       "      <td>2</td>\n",
       "      <td>12.98</td>\n",
       "    </tr>\n",
       "    <tr>\n",
       "      <th>99996154</th>\n",
       "      <td>3</td>\n",
       "      <td>1</td>\n",
       "      <td>2.99</td>\n",
       "    </tr>\n",
       "    <tr>\n",
       "      <th>99997303</th>\n",
       "      <td>3</td>\n",
       "      <td>1</td>\n",
       "      <td>1.99</td>\n",
       "    </tr>\n",
       "    <tr>\n",
       "      <th>99998783</th>\n",
       "      <td>3</td>\n",
       "      <td>1</td>\n",
       "      <td>1.99</td>\n",
       "    </tr>\n",
       "  </tbody>\n",
       "</table>\n",
       "<p>69858 rows × 3 columns</p>\n",
       "</div>"
      ],
      "text/plain": [
       "            Start_month  Frequency  Total_amount\n",
       "account_id                                      \n",
       "100000423             3          1          9.99\n",
       "100001374             3          1          2.99\n",
       "100001463             3          1          0.99\n",
       "100001654             3          3          6.99\n",
       "100003092             3          1          0.99\n",
       "...                 ...        ...           ...\n",
       "99995053              3          2         22.98\n",
       "99995304              3          2         12.98\n",
       "99996154              3          1          2.99\n",
       "99997303              3          1          1.99\n",
       "99998783              3          1          1.99\n",
       "\n",
       "[69858 rows x 3 columns]"
      ]
     },
     "execution_count": 27,
     "metadata": {},
     "output_type": "execute_result"
    }
   ],
   "source": [
    "customer = df.groupby(\"account_id\").agg({\"event_time\": lambda x: x.min().month,\n",
    "                                         \"account_id\": lambda x: len(x),\n",
    "                                         \"amount\": lambda x: np.sum(x)})\n",
    "                                        \n",
    "customer.columns = [\"Start_month\", \"Frequency\", \"Total_amount\"]\n",
    "\n",
    "customer"
   ]
  },
  {
   "cell_type": "code",
   "execution_count": 28,
   "id": "ee5a2646-fc8c-4a60-8cd4-cf1b54ab95dc",
   "metadata": {},
   "outputs": [],
   "source": [
    "CLV_monthly = []\n",
    "\n",
    "for i in range(2,9):\n",
    "    customer_m = customer[customer[\"Start_month\"]==i]\n",
    "\n",
    "    Average_sales = np.mean(customer_m[\"Total_amount\"])\n",
    "    \n",
    "    Purchase_frequency = np.mean(customer_m[\"Frequency\"])\n",
    "                                            \n",
    "    Retention_rate = customer_m[customer_m[\"Frequency\"]>1].shape[0]/customer_m.shape[0]\n",
    "    churn_rate = 1-Retention_rate\n",
    "    \n",
    "    CLV=round((Average_sales*Purchase_frequency/churn_rate)*Profit_margin,2)\n",
    "                                 \n",
    "    CLV_monthly.append(CLV)"
   ]
  },
  {
   "cell_type": "code",
   "execution_count": 29,
   "id": "8b79af3f-9dcd-4789-9d69-219eaa5294f0",
   "metadata": {},
   "outputs": [
    {
     "data": {
      "text/plain": [
       "[2.95, 2.61, 2.93, 2.58, 2.47, 2.9, 2.91]"
      ]
     },
     "execution_count": 29,
     "metadata": {},
     "output_type": "execute_result"
    }
   ],
   "source": [
    "CLV_monthly"
   ]
  },
  {
   "cell_type": "code",
   "execution_count": 30,
   "id": "9ced94e1-5be4-4f7d-90e0-f34f74df2e6b",
   "metadata": {},
   "outputs": [],
   "source": [
    "months=[\"Február\",\"Marec\",\"Apríl\",\"Máj\",\"Jún\",\"Júl\",\"August\"]"
   ]
  },
  {
   "cell_type": "code",
   "execution_count": 31,
   "id": "362c1f56-7ae7-45f5-9393-7ab638963e1e",
   "metadata": {},
   "outputs": [
    {
     "name": "stdout",
     "output_type": "stream",
     "text": [
      "    Mesiac   CLV\n",
      "0  Február  2.95\n",
      "1    Marec  2.61\n",
      "2    Apríl  2.93\n",
      "3      Máj  2.58\n",
      "4      Jún  2.47\n",
      "5      Júl  2.90\n",
      "6   August  2.91\n"
     ]
    }
   ],
   "source": [
    "print(pd.DataFrame(zip(months,CLV_monthly),columns = [\"Mesiac\",\"CLV\"]))"
   ]
  },
  {
   "cell_type": "code",
   "execution_count": 32,
   "id": "7f459a32-3510-4d36-8dbf-2cc096e87cf9",
   "metadata": {},
   "outputs": [
    {
     "data": {
      "text/plain": [
       "<AxesSubplot:xlabel='[Február, Marec, Apríl, Máj, Jún, Júl, August]'>"
      ]
     },
     "execution_count": 32,
     "metadata": {},
     "output_type": "execute_result"
    },
    {
     "data": {
      "image/png": "[encoded data removed]",
      "text/plain": [
       "<Figure size 432x288 with 1 Axes>"
      ]
     },
     "metadata": {},
     "output_type": "display_data"
    }
   ],
   "source": [
    "histogram = pd.DataFrame(zip(months,CLV_monthly),columns = [\"Mesiac\",\"CLV\"])\n",
    "histogram.plot(kind=\"bar\",xlabel=histogram[\"Mesiac\"])"
   ]
  },
  {
   "cell_type": "markdown",
   "id": "72a8a5c0-59b5-41f9-8274-ac7814d93b1d",
   "metadata": {},
   "source": [
    "# Lifetime package "
   ]
  },
  {
   "cell_type": "code",
   "execution_count": 33,
   "id": "a5fefb4c-e84c-41cc-b7a3-51b1926ffeec",
   "metadata": {},
   "outputs": [],
   "source": [
    "summary = lifetimes.utils.summary_data_from_transaction_data(df,\"account_id\",\"event_time\",\"amount\",freq='s',freq_multiplier=86400)\n",
    "summary = summary.reset_index()"
   ]
  },
  {
   "cell_type": "code",
   "execution_count": null,
   "id": "6cf3d67d-9817-46ec-ac06-2aa0ee75ad0e",
   "metadata": {},
   "outputs": [],
   "source": []
  },
  {
   "cell_type": "code",
   "execution_count": 34,
   "id": "46d972c8-2892-49fa-9d76-f608349702e4",
   "metadata": {},
   "outputs": [
    {
     "data": {
      "text/html": [
       "<div>\n",
       "<style scoped>\n",
       "    .dataframe tbody tr th:only-of-type {\n",
       "        vertical-align: middle;\n",
       "    }\n",
       "\n",
       "    .dataframe tbody tr th {\n",
       "        vertical-align: top;\n",
       "    }\n",
       "\n",
       "    .dataframe thead th {\n",
       "        text-align: right;\n",
       "    }\n",
       "</style>\n",
       "<table border=\"1\" class=\"dataframe\">\n",
       "  <thead>\n",
       "    <tr style=\"text-align: right;\">\n",
       "      <th></th>\n",
       "      <th>account_id</th>\n",
       "      <th>frequency</th>\n",
       "      <th>recency</th>\n",
       "      <th>T</th>\n",
       "      <th>monetary_value</th>\n",
       "    </tr>\n",
       "  </thead>\n",
       "  <tbody>\n",
       "    <tr>\n",
       "      <th>67223</th>\n",
       "      <td>98491143</td>\n",
       "      <td>103.0</td>\n",
       "      <td>2.189190</td>\n",
       "      <td>176.550914</td>\n",
       "      <td>26.718155</td>\n",
       "    </tr>\n",
       "    <tr>\n",
       "      <th>50591</th>\n",
       "      <td>167529481</td>\n",
       "      <td>96.0</td>\n",
       "      <td>2.891840</td>\n",
       "      <td>60.774086</td>\n",
       "      <td>12.594167</td>\n",
       "    </tr>\n",
       "    <tr>\n",
       "      <th>10480</th>\n",
       "      <td>113958422</td>\n",
       "      <td>88.0</td>\n",
       "      <td>1.664942</td>\n",
       "      <td>86.127986</td>\n",
       "      <td>30.058182</td>\n",
       "    </tr>\n",
       "    <tr>\n",
       "      <th>52280</th>\n",
       "      <td>169616730</td>\n",
       "      <td>82.0</td>\n",
       "      <td>2.894387</td>\n",
       "      <td>50.590313</td>\n",
       "      <td>34.770488</td>\n",
       "    </tr>\n",
       "    <tr>\n",
       "      <th>19734</th>\n",
       "      <td>123433842</td>\n",
       "      <td>80.0</td>\n",
       "      <td>2.371910</td>\n",
       "      <td>43.490475</td>\n",
       "      <td>9.152500</td>\n",
       "    </tr>\n",
       "    <tr>\n",
       "      <th>...</th>\n",
       "      <td>...</td>\n",
       "      <td>...</td>\n",
       "      <td>...</td>\n",
       "      <td>...</td>\n",
       "      <td>...</td>\n",
       "    </tr>\n",
       "    <tr>\n",
       "      <th>29364</th>\n",
       "      <td>129610414</td>\n",
       "      <td>0.0</td>\n",
       "      <td>0.000000</td>\n",
       "      <td>16.880255</td>\n",
       "      <td>0.000000</td>\n",
       "    </tr>\n",
       "    <tr>\n",
       "      <th>29366</th>\n",
       "      <td>129610564</td>\n",
       "      <td>0.0</td>\n",
       "      <td>0.000000</td>\n",
       "      <td>16.507118</td>\n",
       "      <td>0.000000</td>\n",
       "    </tr>\n",
       "    <tr>\n",
       "      <th>29370</th>\n",
       "      <td>129611652</td>\n",
       "      <td>0.0</td>\n",
       "      <td>0.000000</td>\n",
       "      <td>15.681123</td>\n",
       "      <td>0.000000</td>\n",
       "    </tr>\n",
       "    <tr>\n",
       "      <th>29375</th>\n",
       "      <td>129612734</td>\n",
       "      <td>0.0</td>\n",
       "      <td>0.000000</td>\n",
       "      <td>16.873623</td>\n",
       "      <td>0.000000</td>\n",
       "    </tr>\n",
       "    <tr>\n",
       "      <th>69857</th>\n",
       "      <td>99998783</td>\n",
       "      <td>0.0</td>\n",
       "      <td>0.000000</td>\n",
       "      <td>158.256400</td>\n",
       "      <td>0.000000</td>\n",
       "    </tr>\n",
       "  </tbody>\n",
       "</table>\n",
       "<p>69858 rows × 5 columns</p>\n",
       "</div>"
      ],
      "text/plain": [
       "      account_id  frequency   recency           T  monetary_value\n",
       "67223   98491143      103.0  2.189190  176.550914       26.718155\n",
       "50591  167529481       96.0  2.891840   60.774086       12.594167\n",
       "10480  113958422       88.0  1.664942   86.127986       30.058182\n",
       "52280  169616730       82.0  2.894387   50.590313       34.770488\n",
       "19734  123433842       80.0  2.371910   43.490475        9.152500\n",
       "...          ...        ...       ...         ...             ...\n",
       "29364  129610414        0.0  0.000000   16.880255        0.000000\n",
       "29366  129610564        0.0  0.000000   16.507118        0.000000\n",
       "29370  129611652        0.0  0.000000   15.681123        0.000000\n",
       "29375  129612734        0.0  0.000000   16.873623        0.000000\n",
       "69857   99998783        0.0  0.000000  158.256400        0.000000\n",
       "\n",
       "[69858 rows x 5 columns]"
      ]
     },
     "execution_count": 34,
     "metadata": {},
     "output_type": "execute_result"
    }
   ],
   "source": [
    "summary.sort_values(by=\"frequency\",ascending = False)"
   ]
  },
  {
   "cell_type": "code",
   "execution_count": 35,
   "id": "b38bb7fa-5cb3-4eb1-a2d0-b0a434572a76",
   "metadata": {},
   "outputs": [
    {
     "name": "stdout",
     "output_type": "stream",
     "text": [
      "count    69858.000000\n",
      "mean         1.304604\n",
      "std          2.965060\n",
      "min          0.000000\n",
      "25%          0.000000\n",
      "50%          0.000000\n",
      "75%          1.000000\n",
      "max        103.000000\n",
      "Name: frequency, dtype: float64\n",
      "percentage of one time buyers 18.64\n"
     ]
    },
    {
     "data": {
      "image/png": "[encoded data removed]",
      "text/plain": [
       "<Figure size 432x288 with 1 Axes>"
      ]
     },
     "metadata": {},
     "output_type": "display_data"
    }
   ],
   "source": [
    "summary[\"frequency\"].plot(kind=\"hist\",bins = 100)\n",
    "print(summary[\"frequency\"].describe())\n",
    "percentage = sum(summary[\"frequency\"]==1)/(len(summary))*(100)\n",
    "print(f\"percentage of one time buyers { round(percentage,2)}\")"
   ]
  },
  {
   "cell_type": "code",
   "execution_count": 36,
   "id": "fb6e26dd-0ed7-46df-bb02-392b558e73bf",
   "metadata": {},
   "outputs": [
    {
     "data": {
      "text/plain": [
       "<lifetimes.BetaGeoFitter: fitted with 69858 subjects, a: 2.93, alpha: 0.00, b: 4.07, r: 0.06>"
      ]
     },
     "execution_count": 36,
     "metadata": {},
     "output_type": "execute_result"
    }
   ],
   "source": [
    "bgf = lifetimes.BetaGeoFitter()\n",
    "bgf.fit(summary[\"frequency\"],summary[\"recency\"],summary[\"T\"])"
   ]
  },
  {
   "cell_type": "code",
   "execution_count": 37,
   "id": "3cc98e83-f79b-40b2-bf69-04ebf2167daa",
   "metadata": {},
   "outputs": [
    {
     "data": {
      "text/html": [
       "<div>\n",
       "<style scoped>\n",
       "    .dataframe tbody tr th:only-of-type {\n",
       "        vertical-align: middle;\n",
       "    }\n",
       "\n",
       "    .dataframe tbody tr th {\n",
       "        vertical-align: top;\n",
       "    }\n",
       "\n",
       "    .dataframe thead th {\n",
       "        text-align: right;\n",
       "    }\n",
       "</style>\n",
       "<table border=\"1\" class=\"dataframe\">\n",
       "  <thead>\n",
       "    <tr style=\"text-align: right;\">\n",
       "      <th></th>\n",
       "      <th>coef</th>\n",
       "      <th>se(coef)</th>\n",
       "      <th>lower 95% bound</th>\n",
       "      <th>upper 95% bound</th>\n",
       "    </tr>\n",
       "  </thead>\n",
       "  <tbody>\n",
       "    <tr>\n",
       "      <th>r</th>\n",
       "      <td>0.060864</td>\n",
       "      <td>0.000412</td>\n",
       "      <td>0.060056</td>\n",
       "      <td>0.061672</td>\n",
       "    </tr>\n",
       "    <tr>\n",
       "      <th>alpha</th>\n",
       "      <td>0.003070</td>\n",
       "      <td>0.000080</td>\n",
       "      <td>0.002912</td>\n",
       "      <td>0.003228</td>\n",
       "    </tr>\n",
       "    <tr>\n",
       "      <th>a</th>\n",
       "      <td>2.929621</td>\n",
       "      <td>0.070903</td>\n",
       "      <td>2.790650</td>\n",
       "      <td>3.068591</td>\n",
       "    </tr>\n",
       "    <tr>\n",
       "      <th>b</th>\n",
       "      <td>4.067368</td>\n",
       "      <td>0.124858</td>\n",
       "      <td>3.822647</td>\n",
       "      <td>4.312090</td>\n",
       "    </tr>\n",
       "  </tbody>\n",
       "</table>\n",
       "</div>"
      ],
      "text/plain": [
       "           coef  se(coef)  lower 95% bound  upper 95% bound\n",
       "r      0.060864  0.000412         0.060056         0.061672\n",
       "alpha  0.003070  0.000080         0.002912         0.003228\n",
       "a      2.929621  0.070903         2.790650         3.068591\n",
       "b      4.067368  0.124858         3.822647         4.312090"
      ]
     },
     "execution_count": 37,
     "metadata": {},
     "output_type": "execute_result"
    }
   ],
   "source": [
    "bgf.summary"
   ]
  },
  {
   "cell_type": "code",
   "execution_count": 38,
   "id": "6d202ce6-6023-4237-a125-715f551ad0d3",
   "metadata": {},
   "outputs": [
    {
     "name": "stderr",
     "output_type": "stream",
     "text": [
      "c:\\users\\fpolo\\appdata\\local\\programs\\python\\python39\\lib\\site-packages\\lifetimes\\fitters\\beta_geo_fitter.py:256: RuntimeWarning: overflow encountered in double_scalars\n",
      "  denominator = 1 + (x > 0) * (a / (b + x - 1)) * ((alpha + T) / (alpha + recency)) ** (r + x)\n"
     ]
    },
    {
     "data": {
      "text/plain": [
       "<AxesSubplot:title={'center':'Expected Number of Future Purchases for 1 Unit of Time,\\nby Frequency and Recency of a Customer'}, xlabel=\"Customer's Historical Frequency\", ylabel=\"Customer's Recency\">"
      ]
     },
     "execution_count": 38,
     "metadata": {},
     "output_type": "execute_result"
    },
    {
     "data": {
      "image/png": "[encoded data removed]",
      "text/plain": [
       "<Figure size 432x288 with 2 Axes>"
      ]
     },
     "metadata": {},
     "output_type": "display_data"
    }
   ],
   "source": [
    "from lifetimes.plotting import plot_frequency_recency_matrix\n",
    "\n",
    "plot_frequency_recency_matrix(bgf)"
   ]
  },
  {
   "cell_type": "code",
   "execution_count": 39,
   "id": "0af8551e-7a4b-44c8-a221-8a8ed03b298c",
   "metadata": {},
   "outputs": [
    {
     "data": {
      "text/html": [
       "<div>\n",
       "<style scoped>\n",
       "    .dataframe tbody tr th:only-of-type {\n",
       "        vertical-align: middle;\n",
       "    }\n",
       "\n",
       "    .dataframe tbody tr th {\n",
       "        vertical-align: top;\n",
       "    }\n",
       "\n",
       "    .dataframe thead th {\n",
       "        text-align: right;\n",
       "    }\n",
       "</style>\n",
       "<table border=\"1\" class=\"dataframe\">\n",
       "  <thead>\n",
       "    <tr style=\"text-align: right;\">\n",
       "      <th></th>\n",
       "      <th>account_id</th>\n",
       "      <th>frequency</th>\n",
       "      <th>recency</th>\n",
       "      <th>T</th>\n",
       "      <th>monetary_value</th>\n",
       "      <th>probability_alive</th>\n",
       "    </tr>\n",
       "  </thead>\n",
       "  <tbody>\n",
       "    <tr>\n",
       "      <th>67223</th>\n",
       "      <td>98491143</td>\n",
       "      <td>103.0</td>\n",
       "      <td>2.189190</td>\n",
       "      <td>176.550914</td>\n",
       "      <td>26.718155</td>\n",
       "      <td>1.337390e-195</td>\n",
       "    </tr>\n",
       "    <tr>\n",
       "      <th>10480</th>\n",
       "      <td>113958422</td>\n",
       "      <td>88.0</td>\n",
       "      <td>1.664942</td>\n",
       "      <td>86.127986</td>\n",
       "      <td>30.058182</td>\n",
       "      <td>4.443897e-150</td>\n",
       "    </tr>\n",
       "    <tr>\n",
       "      <th>50591</th>\n",
       "      <td>167529481</td>\n",
       "      <td>96.0</td>\n",
       "      <td>2.891840</td>\n",
       "      <td>60.774086</td>\n",
       "      <td>12.594167</td>\n",
       "      <td>3.361596e-126</td>\n",
       "    </tr>\n",
       "    <tr>\n",
       "      <th>36702</th>\n",
       "      <td>143169930</td>\n",
       "      <td>54.0</td>\n",
       "      <td>1.905382</td>\n",
       "      <td>197.708056</td>\n",
       "      <td>8.656667</td>\n",
       "      <td>2.177814e-108</td>\n",
       "    </tr>\n",
       "    <tr>\n",
       "      <th>42053</th>\n",
       "      <td>149812631</td>\n",
       "      <td>57.0</td>\n",
       "      <td>1.911285</td>\n",
       "      <td>139.210417</td>\n",
       "      <td>9.235614</td>\n",
       "      <td>1.213283e-105</td>\n",
       "    </tr>\n",
       "    <tr>\n",
       "      <th>...</th>\n",
       "      <td>...</td>\n",
       "      <td>...</td>\n",
       "      <td>...</td>\n",
       "      <td>...</td>\n",
       "      <td>...</td>\n",
       "      <td>...</td>\n",
       "    </tr>\n",
       "    <tr>\n",
       "      <th>29366</th>\n",
       "      <td>129610564</td>\n",
       "      <td>0.0</td>\n",
       "      <td>0.000000</td>\n",
       "      <td>16.507118</td>\n",
       "      <td>0.000000</td>\n",
       "      <td>1.000000e+00</td>\n",
       "    </tr>\n",
       "    <tr>\n",
       "      <th>29370</th>\n",
       "      <td>129611652</td>\n",
       "      <td>0.0</td>\n",
       "      <td>0.000000</td>\n",
       "      <td>15.681123</td>\n",
       "      <td>0.000000</td>\n",
       "      <td>1.000000e+00</td>\n",
       "    </tr>\n",
       "    <tr>\n",
       "      <th>29375</th>\n",
       "      <td>129612734</td>\n",
       "      <td>0.0</td>\n",
       "      <td>0.000000</td>\n",
       "      <td>16.873623</td>\n",
       "      <td>0.000000</td>\n",
       "      <td>1.000000e+00</td>\n",
       "    </tr>\n",
       "    <tr>\n",
       "      <th>29382</th>\n",
       "      <td>129616472</td>\n",
       "      <td>0.0</td>\n",
       "      <td>0.000000</td>\n",
       "      <td>13.379062</td>\n",
       "      <td>0.000000</td>\n",
       "      <td>1.000000e+00</td>\n",
       "    </tr>\n",
       "    <tr>\n",
       "      <th>69857</th>\n",
       "      <td>99998783</td>\n",
       "      <td>0.0</td>\n",
       "      <td>0.000000</td>\n",
       "      <td>158.256400</td>\n",
       "      <td>0.000000</td>\n",
       "      <td>1.000000e+00</td>\n",
       "    </tr>\n",
       "  </tbody>\n",
       "</table>\n",
       "<p>69858 rows × 6 columns</p>\n",
       "</div>"
      ],
      "text/plain": [
       "      account_id  frequency   recency           T  monetary_value  \\\n",
       "67223   98491143      103.0  2.189190  176.550914       26.718155   \n",
       "10480  113958422       88.0  1.664942   86.127986       30.058182   \n",
       "50591  167529481       96.0  2.891840   60.774086       12.594167   \n",
       "36702  143169930       54.0  1.905382  197.708056        8.656667   \n",
       "42053  149812631       57.0  1.911285  139.210417        9.235614   \n",
       "...          ...        ...       ...         ...             ...   \n",
       "29366  129610564        0.0  0.000000   16.507118        0.000000   \n",
       "29370  129611652        0.0  0.000000   15.681123        0.000000   \n",
       "29375  129612734        0.0  0.000000   16.873623        0.000000   \n",
       "29382  129616472        0.0  0.000000   13.379062        0.000000   \n",
       "69857   99998783        0.0  0.000000  158.256400        0.000000   \n",
       "\n",
       "       probability_alive  \n",
       "67223      1.337390e-195  \n",
       "10480      4.443897e-150  \n",
       "50591      3.361596e-126  \n",
       "36702      2.177814e-108  \n",
       "42053      1.213283e-105  \n",
       "...                  ...  \n",
       "29366       1.000000e+00  \n",
       "29370       1.000000e+00  \n",
       "29375       1.000000e+00  \n",
       "29382       1.000000e+00  \n",
       "69857       1.000000e+00  \n",
       "\n",
       "[69858 rows x 6 columns]"
      ]
     },
     "execution_count": 39,
     "metadata": {},
     "output_type": "execute_result"
    }
   ],
   "source": [
    "summary[\"probability_alive\"] = bgf.conditional_probability_alive(summary[\"frequency\"],summary[\"recency\"],summary[\"T\"])\n",
    "summary.sort_values(by=\"probability_alive\",ascending = True)"
   ]
  },
  {
   "cell_type": "code",
   "execution_count": 40,
   "id": "9c1be450-2135-4d94-aada-0a612a562d29",
   "metadata": {},
   "outputs": [
    {
     "data": {
      "text/plain": [
       "<AxesSubplot:title={'center':'Probability Customer is Alive,\\nby Frequency and Recency of a Customer'}, xlabel=\"Customer's Historical Frequency\", ylabel=\"Customer's Recency\">"
      ]
     },
     "execution_count": 40,
     "metadata": {},
     "output_type": "execute_result"
    },
    {
     "data": {
      "image/png": "[encoded data removed]",
      "text/plain": [
       "<Figure size 432x288 with 2 Axes>"
      ]
     },
     "metadata": {},
     "output_type": "display_data"
    }
   ],
   "source": [
    "from lifetimes.plotting import plot_probability_alive_matrix\n",
    "\n",
    "plot_probability_alive_matrix(bgf)"
   ]
  },
  {
   "cell_type": "code",
   "execution_count": 41,
   "id": "9b619b57-a962-49f0-abf8-b4a22bd4f369",
   "metadata": {},
   "outputs": [
    {
     "data": {
      "text/plain": [
       "<AxesSubplot:title={'center':'Frequency of Repeat Transactions'}, xlabel='Number of Calibration Period Transactions', ylabel='Customers'>"
      ]
     },
     "execution_count": 41,
     "metadata": {},
     "output_type": "execute_result"
    },
    {
     "data": {
      "image/png": "[encoded data removed]",
      "text/plain": [
       "<Figure size 432x288 with 1 Axes>"
      ]
     },
     "metadata": {},
     "output_type": "display_data"
    }
   ],
   "source": [
    "from lifetimes.plotting import plot_period_transactions\n",
    "plot_period_transactions(bgf)"
   ]
  },
  {
   "cell_type": "code",
   "execution_count": null,
   "id": "126f48d1-a7d5-482d-b887-ee650d992bda",
   "metadata": {},
   "outputs": [],
   "source": []
  }
 ],
 "metadata": {
  "kernelspec": {
   "display_name": "Python 3 (ipykernel)",
   "language": "python",
   "name": "python3"
  },
  "language_info": {
   "codemirror_mode": {
    "name": "ipython",
    "version": 3
   },
   "file_extension": ".py",
   "mimetype": "text/x-python",
   "name": "python",
   "nbconvert_exporter": "python",
   "pygments_lexer": "ipython3",
   "version": "3.9.0"
  }
 },
 "nbformat": 4,
 "nbformat_minor": 5
}
