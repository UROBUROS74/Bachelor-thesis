{
 "cells": [
  {
   "cell_type": "code",
   "execution_count": 1,
   "id": "28a34012-b224-4d59-b247-8a945ae9d2c2",
   "metadata": {},
   "outputs": [],
   "source": [
    "import pandas as pd\n",
    "import numpy as np\n",
    "import matplotlib.pyplot as plt\n",
    "import lifetimes\n",
    "import seaborn as sns \n",
    "import math"
   ]
  },
  {
   "cell_type": "code",
   "execution_count": 2,
   "id": "ad8f9b5d-2ba2-4670-b6ef-029304b58edb",
   "metadata": {},
   "outputs": [],
   "source": [
    "df = pd.read_parquet(\"transactional_dataset_train.parquet\")"
   ]
  },
  {
   "cell_type": "code",
   "execution_count": 3,
   "id": "41e68bc2-ba25-4ba5-8254-492c8f6bc289",
   "metadata": {},
   "outputs": [
    {
     "data": {
      "text/html": [
       "<div>\n",
       "<style scoped>\n",
       "    .dataframe tbody tr th:only-of-type {\n",
       "        vertical-align: middle;\n",
       "    }\n",
       "\n",
       "    .dataframe tbody tr th {\n",
       "        vertical-align: top;\n",
       "    }\n",
       "\n",
       "    .dataframe thead th {\n",
       "        text-align: right;\n",
       "    }\n",
       "</style>\n",
       "<table border=\"1\" class=\"dataframe\">\n",
       "  <thead>\n",
       "    <tr style=\"text-align: right;\">\n",
       "      <th></th>\n",
       "      <th>account_id</th>\n",
       "      <th>event_time</th>\n",
       "      <th>amount</th>\n",
       "    </tr>\n",
       "  </thead>\n",
       "  <tbody>\n",
       "    <tr>\n",
       "      <th>0</th>\n",
       "      <td>132285932</td>\n",
       "      <td>2021-08-14 21:18:04.956</td>\n",
       "      <td>19.99</td>\n",
       "    </tr>\n",
       "    <tr>\n",
       "      <th>1</th>\n",
       "      <td>131792942</td>\n",
       "      <td>2021-08-14 21:28:33.266</td>\n",
       "      <td>9.99</td>\n",
       "    </tr>\n",
       "    <tr>\n",
       "      <th>2</th>\n",
       "      <td>180084640</td>\n",
       "      <td>2021-08-14 19:10:59.833</td>\n",
       "      <td>0.99</td>\n",
       "    </tr>\n",
       "    <tr>\n",
       "      <th>3</th>\n",
       "      <td>132486244</td>\n",
       "      <td>2021-08-14 20:35:14.897</td>\n",
       "      <td>9.99</td>\n",
       "    </tr>\n",
       "    <tr>\n",
       "      <th>4</th>\n",
       "      <td>131970262</td>\n",
       "      <td>2021-08-14 19:30:59.234</td>\n",
       "      <td>0.99</td>\n",
       "    </tr>\n",
       "  </tbody>\n",
       "</table>\n",
       "</div>"
      ],
      "text/plain": [
       "  account_id              event_time  amount\n",
       "0  132285932 2021-08-14 21:18:04.956   19.99\n",
       "1  131792942 2021-08-14 21:28:33.266    9.99\n",
       "2  180084640 2021-08-14 19:10:59.833    0.99\n",
       "3  132486244 2021-08-14 20:35:14.897    9.99\n",
       "4  131970262 2021-08-14 19:30:59.234    0.99"
      ]
     },
     "execution_count": 3,
     "metadata": {},
     "output_type": "execute_result"
    }
   ],
   "source": [
    "df.head()"
   ]
  },
  {
   "cell_type": "code",
   "execution_count": 4,
   "id": "8fb16a0c-fa69-496a-a021-7858dfe213e5",
   "metadata": {},
   "outputs": [
    {
     "data": {
      "text/plain": [
       "count    161075.000000\n",
       "mean          5.941833\n",
       "std           9.208794\n",
       "min           0.990000\n",
       "25%           1.990000\n",
       "50%           2.990000\n",
       "75%           4.990000\n",
       "max          99.990000\n",
       "Name: amount, dtype: float64"
      ]
     },
     "execution_count": 4,
     "metadata": {},
     "output_type": "execute_result"
    }
   ],
   "source": [
    "df[\"amount\"].describe()"
   ]
  },
  {
   "cell_type": "markdown",
   "id": "1e2d3c93-6d3b-473b-80fd-c795bf739686",
   "metadata": {},
   "source": [
    "# Dataset overview"
   ]
  },
  {
   "cell_type": "code",
   "execution_count": 5,
   "id": "2e503fa4-33c6-4743-ab17-5561647675cd",
   "metadata": {},
   "outputs": [
    {
     "name": "stdout",
     "output_type": "stream",
     "text": [
      "Time range of all transactions is from 2021-02-02 to 2021-08-20\n",
      "Total number of unique ID: 69858\n",
      "Total spend is: 957080.7100000001\n"
     ]
    }
   ],
   "source": [
    "maxdate = df[\"event_time\"].dt.date.max()\n",
    "mindate = df[\"event_time\"].dt.date.min()\n",
    "number_of_unique_customers = df[\"account_id\"].nunique()\n",
    "total_spend = df[\"amount\"].sum()\n",
    "\n",
    "print(f\"Time range of all transactions is from {mindate} to {maxdate}\")\n",
    "print(f\"Total number of unique ID: {number_of_unique_customers}\")\n",
    "print(f\"Total spend is: {total_spend}\")  "
   ]
  },
  {
   "cell_type": "markdown",
   "id": "0085e9bf-0bbd-4434-ab5f-19a8109f1be6",
   "metadata": {},
   "source": [
    "# Historical approach"
   ]
  },
  {
   "cell_type": "code",
   "execution_count": 6,
   "id": "07f3f2fd-8b0e-4bd0-adf1-b803ee5d1c50",
   "metadata": {},
   "outputs": [],
   "source": [
    "CLV_Historic = df.groupby(\"account_id\").agg({\"event_time\": lambda x: (df[\"event_time\"].max()-x.max()).days,\n",
    "                                            \"account_id\": lambda x: len(x),\n",
    "                                            \"amount\": lambda x: sum(x)})"
   ]
  },
  {
   "cell_type": "code",
   "execution_count": 7,
   "id": "632d7097-6e97-45ac-a707-ee72f8e57e52",
   "metadata": {},
   "outputs": [],
   "source": [
    "CLV_Historic.columns = [\"Age\",\"Frequency\",\"Total_amount\"]\n",
    "CLV_Historic.sort_values(by=\"Frequency\",ascending=False)\n",
    "CLV_Historic[\"type_of_buyer\"] = np.where(CLV_Historic[\"Frequency\"]==1,\"One_time\",\"more_than_one\")\n",
    "CLV_Historic[\"count\"] = np.where(CLV_Historic[\"type_of_buyer\"]==\"One_time\",1,0)\n"
   ]
  },
  {
   "cell_type": "code",
   "execution_count": 8,
   "id": "0f4b081a-a5ef-4d2c-937e-1242bdccedc0",
   "metadata": {},
   "outputs": [],
   "source": [
    "ln_Total=[]\n",
    "for i in range(0,len(CLV_Historic[\"Total_amount\"])):\n",
    "    ln_Total.append(math.log(CLV_Historic[\"Total_amount\"][i]))\n",
    "    \n",
    "CLV_Historic[\"Ln_Total_Amount\"]=ln_Total"
   ]
  },
  {
   "cell_type": "code",
   "execution_count": 9,
   "id": "7709e10f-2021-44d1-959d-dcb48630a79f",
   "metadata": {},
   "outputs": [],
   "source": [
    "ln_Total_F=[]\n",
    "for i in range(0,len(CLV_Historic[\"Frequency\"])):\n",
    "    ln_Total_F.append(math.log(CLV_Historic[\"Frequency\"][i]))\n",
    "    \n",
    "CLV_Historic[\"Ln_Frequency\"]=ln_Total_F"
   ]
  },
  {
   "cell_type": "code",
   "execution_count": 10,
   "id": "573da45e-5a7c-4a9d-9461-ce055995eb42",
   "metadata": {},
   "outputs": [
    {
     "data": {
      "text/html": [
       "<div>\n",
       "<style scoped>\n",
       "    .dataframe tbody tr th:only-of-type {\n",
       "        vertical-align: middle;\n",
       "    }\n",
       "\n",
       "    .dataframe tbody tr th {\n",
       "        vertical-align: top;\n",
       "    }\n",
       "\n",
       "    .dataframe thead th {\n",
       "        text-align: right;\n",
       "    }\n",
       "</style>\n",
       "<table border=\"1\" class=\"dataframe\">\n",
       "  <thead>\n",
       "    <tr style=\"text-align: right;\">\n",
       "      <th></th>\n",
       "      <th>Age</th>\n",
       "      <th>Frequency</th>\n",
       "      <th>Total_amount</th>\n",
       "      <th>type_of_buyer</th>\n",
       "      <th>count</th>\n",
       "      <th>Ln_Total_Amount</th>\n",
       "      <th>Ln_Frequency</th>\n",
       "    </tr>\n",
       "    <tr>\n",
       "      <th>account_id</th>\n",
       "      <th></th>\n",
       "      <th></th>\n",
       "      <th></th>\n",
       "      <th></th>\n",
       "      <th></th>\n",
       "      <th></th>\n",
       "      <th></th>\n",
       "    </tr>\n",
       "  </thead>\n",
       "  <tbody>\n",
       "    <tr>\n",
       "      <th>98491143</th>\n",
       "      <td>174</td>\n",
       "      <td>104</td>\n",
       "      <td>2756.96</td>\n",
       "      <td>more_than_one</td>\n",
       "      <td>0</td>\n",
       "      <td>7.921884</td>\n",
       "      <td>4.644391</td>\n",
       "    </tr>\n",
       "    <tr>\n",
       "      <th>167529481</th>\n",
       "      <td>57</td>\n",
       "      <td>97</td>\n",
       "      <td>1214.03</td>\n",
       "      <td>more_than_one</td>\n",
       "      <td>0</td>\n",
       "      <td>7.101701</td>\n",
       "      <td>4.574711</td>\n",
       "    </tr>\n",
       "    <tr>\n",
       "      <th>113958422</th>\n",
       "      <td>84</td>\n",
       "      <td>89</td>\n",
       "      <td>2655.11</td>\n",
       "      <td>more_than_one</td>\n",
       "      <td>0</td>\n",
       "      <td>7.884241</td>\n",
       "      <td>4.488636</td>\n",
       "    </tr>\n",
       "    <tr>\n",
       "      <th>169616730</th>\n",
       "      <td>47</td>\n",
       "      <td>83</td>\n",
       "      <td>2854.17</td>\n",
       "      <td>more_than_one</td>\n",
       "      <td>0</td>\n",
       "      <td>7.956536</td>\n",
       "      <td>4.418841</td>\n",
       "    </tr>\n",
       "    <tr>\n",
       "      <th>123433842</th>\n",
       "      <td>41</td>\n",
       "      <td>81</td>\n",
       "      <td>735.19</td>\n",
       "      <td>more_than_one</td>\n",
       "      <td>0</td>\n",
       "      <td>6.600129</td>\n",
       "      <td>4.394449</td>\n",
       "    </tr>\n",
       "  </tbody>\n",
       "</table>\n",
       "</div>"
      ],
      "text/plain": [
       "            Age  Frequency  Total_amount  type_of_buyer  count  \\\n",
       "account_id                                                       \n",
       "98491143    174        104       2756.96  more_than_one      0   \n",
       "167529481    57         97       1214.03  more_than_one      0   \n",
       "113958422    84         89       2655.11  more_than_one      0   \n",
       "169616730    47         83       2854.17  more_than_one      0   \n",
       "123433842    41         81        735.19  more_than_one      0   \n",
       "\n",
       "            Ln_Total_Amount  Ln_Frequency  \n",
       "account_id                                 \n",
       "98491143           7.921884      4.644391  \n",
       "167529481          7.101701      4.574711  \n",
       "113958422          7.884241      4.488636  \n",
       "169616730          7.956536      4.418841  \n",
       "123433842          6.600129      4.394449  "
      ]
     },
     "execution_count": 10,
     "metadata": {},
     "output_type": "execute_result"
    }
   ],
   "source": [
    "CLV_Historic.sort_values(by=\"Frequency\",ascending = False).head()"
   ]
  },
  {
   "cell_type": "code",
   "execution_count": 11,
   "id": "47951d33-7bb1-442d-afff-c4d11e7e2687",
   "metadata": {},
   "outputs": [
    {
     "data": {
      "text/html": [
       "<div>\n",
       "<style scoped>\n",
       "    .dataframe tbody tr th:only-of-type {\n",
       "        vertical-align: middle;\n",
       "    }\n",
       "\n",
       "    .dataframe tbody tr th {\n",
       "        vertical-align: top;\n",
       "    }\n",
       "\n",
       "    .dataframe thead th {\n",
       "        text-align: right;\n",
       "    }\n",
       "</style>\n",
       "<table border=\"1\" class=\"dataframe\">\n",
       "  <thead>\n",
       "    <tr style=\"text-align: right;\">\n",
       "      <th></th>\n",
       "      <th>Age</th>\n",
       "      <th>Frequency</th>\n",
       "      <th>Total_amount</th>\n",
       "      <th>type_of_buyer</th>\n",
       "      <th>count</th>\n",
       "      <th>Ln_Total_Amount</th>\n",
       "      <th>Ln_Frequency</th>\n",
       "    </tr>\n",
       "    <tr>\n",
       "      <th>account_id</th>\n",
       "      <th></th>\n",
       "      <th></th>\n",
       "      <th></th>\n",
       "      <th></th>\n",
       "      <th></th>\n",
       "      <th></th>\n",
       "      <th></th>\n",
       "    </tr>\n",
       "  </thead>\n",
       "  <tbody>\n",
       "    <tr>\n",
       "      <th>130423134</th>\n",
       "      <td>12</td>\n",
       "      <td>1</td>\n",
       "      <td>99.99</td>\n",
       "      <td>One_time</td>\n",
       "      <td>1</td>\n",
       "      <td>4.60507</td>\n",
       "      <td>0.0</td>\n",
       "    </tr>\n",
       "    <tr>\n",
       "      <th>99779802</th>\n",
       "      <td>160</td>\n",
       "      <td>1</td>\n",
       "      <td>99.99</td>\n",
       "      <td>One_time</td>\n",
       "      <td>1</td>\n",
       "      <td>4.60507</td>\n",
       "      <td>0.0</td>\n",
       "    </tr>\n",
       "    <tr>\n",
       "      <th>157045881</th>\n",
       "      <td>104</td>\n",
       "      <td>1</td>\n",
       "      <td>99.99</td>\n",
       "      <td>One_time</td>\n",
       "      <td>1</td>\n",
       "      <td>4.60507</td>\n",
       "      <td>0.0</td>\n",
       "    </tr>\n",
       "    <tr>\n",
       "      <th>151135420</th>\n",
       "      <td>128</td>\n",
       "      <td>1</td>\n",
       "      <td>99.99</td>\n",
       "      <td>One_time</td>\n",
       "      <td>1</td>\n",
       "      <td>4.60507</td>\n",
       "      <td>0.0</td>\n",
       "    </tr>\n",
       "    <tr>\n",
       "      <th>129463743</th>\n",
       "      <td>17</td>\n",
       "      <td>1</td>\n",
       "      <td>99.99</td>\n",
       "      <td>One_time</td>\n",
       "      <td>1</td>\n",
       "      <td>4.60507</td>\n",
       "      <td>0.0</td>\n",
       "    </tr>\n",
       "  </tbody>\n",
       "</table>\n",
       "</div>"
      ],
      "text/plain": [
       "            Age  Frequency  Total_amount type_of_buyer  count  \\\n",
       "account_id                                                      \n",
       "130423134    12          1         99.99      One_time      1   \n",
       "99779802    160          1         99.99      One_time      1   \n",
       "157045881   104          1         99.99      One_time      1   \n",
       "151135420   128          1         99.99      One_time      1   \n",
       "129463743    17          1         99.99      One_time      1   \n",
       "\n",
       "            Ln_Total_Amount  Ln_Frequency  \n",
       "account_id                                 \n",
       "130423134           4.60507           0.0  \n",
       "99779802            4.60507           0.0  \n",
       "157045881           4.60507           0.0  \n",
       "151135420           4.60507           0.0  \n",
       "129463743           4.60507           0.0  "
      ]
     },
     "execution_count": 11,
     "metadata": {},
     "output_type": "execute_result"
    }
   ],
   "source": [
    "CLV_Historic_one_time_buyers = CLV_Historic[CLV_Historic[\"count\"]==1]\n",
    "CLV_Historic_one_time_buyers.sort_values(by=\"Total_amount\",ascending=False).head()"
   ]
  },
  {
   "cell_type": "code",
   "execution_count": 12,
   "id": "76607653-e9ca-4a9f-9fcb-54635fff577d",
   "metadata": {},
   "outputs": [
    {
     "data": {
      "text/html": [
       "<div>\n",
       "<style scoped>\n",
       "    .dataframe tbody tr th:only-of-type {\n",
       "        vertical-align: middle;\n",
       "    }\n",
       "\n",
       "    .dataframe tbody tr th {\n",
       "        vertical-align: top;\n",
       "    }\n",
       "\n",
       "    .dataframe thead th {\n",
       "        text-align: right;\n",
       "    }\n",
       "</style>\n",
       "<table border=\"1\" class=\"dataframe\">\n",
       "  <thead>\n",
       "    <tr style=\"text-align: right;\">\n",
       "      <th></th>\n",
       "      <th>Age</th>\n",
       "      <th>Frequency</th>\n",
       "      <th>Total_amount</th>\n",
       "      <th>type_of_buyer</th>\n",
       "      <th>count</th>\n",
       "      <th>Ln_Total_Amount</th>\n",
       "      <th>Ln_Frequency</th>\n",
       "    </tr>\n",
       "    <tr>\n",
       "      <th>account_id</th>\n",
       "      <th></th>\n",
       "      <th></th>\n",
       "      <th></th>\n",
       "      <th></th>\n",
       "      <th></th>\n",
       "      <th></th>\n",
       "      <th></th>\n",
       "    </tr>\n",
       "  </thead>\n",
       "  <tbody>\n",
       "    <tr>\n",
       "      <th>169616730</th>\n",
       "      <td>47</td>\n",
       "      <td>83</td>\n",
       "      <td>2854.17</td>\n",
       "      <td>more_than_one</td>\n",
       "      <td>0</td>\n",
       "      <td>7.956536</td>\n",
       "      <td>4.418841</td>\n",
       "    </tr>\n",
       "    <tr>\n",
       "      <th>98491143</th>\n",
       "      <td>174</td>\n",
       "      <td>104</td>\n",
       "      <td>2756.96</td>\n",
       "      <td>more_than_one</td>\n",
       "      <td>0</td>\n",
       "      <td>7.921884</td>\n",
       "      <td>4.644391</td>\n",
       "    </tr>\n",
       "    <tr>\n",
       "      <th>113958422</th>\n",
       "      <td>84</td>\n",
       "      <td>89</td>\n",
       "      <td>2655.11</td>\n",
       "      <td>more_than_one</td>\n",
       "      <td>0</td>\n",
       "      <td>7.884241</td>\n",
       "      <td>4.488636</td>\n",
       "    </tr>\n",
       "    <tr>\n",
       "      <th>125162993</th>\n",
       "      <td>34</td>\n",
       "      <td>80</td>\n",
       "      <td>1984.20</td>\n",
       "      <td>more_than_one</td>\n",
       "      <td>0</td>\n",
       "      <td>7.592971</td>\n",
       "      <td>4.382027</td>\n",
       "    </tr>\n",
       "    <tr>\n",
       "      <th>101436153</th>\n",
       "      <td>144</td>\n",
       "      <td>56</td>\n",
       "      <td>1891.44</td>\n",
       "      <td>more_than_one</td>\n",
       "      <td>0</td>\n",
       "      <td>7.545094</td>\n",
       "      <td>4.025352</td>\n",
       "    </tr>\n",
       "  </tbody>\n",
       "</table>\n",
       "</div>"
      ],
      "text/plain": [
       "            Age  Frequency  Total_amount  type_of_buyer  count  \\\n",
       "account_id                                                       \n",
       "169616730    47         83       2854.17  more_than_one      0   \n",
       "98491143    174        104       2756.96  more_than_one      0   \n",
       "113958422    84         89       2655.11  more_than_one      0   \n",
       "125162993    34         80       1984.20  more_than_one      0   \n",
       "101436153   144         56       1891.44  more_than_one      0   \n",
       "\n",
       "            Ln_Total_Amount  Ln_Frequency  \n",
       "account_id                                 \n",
       "169616730          7.956536      4.418841  \n",
       "98491143           7.921884      4.644391  \n",
       "113958422          7.884241      4.488636  \n",
       "125162993          7.592971      4.382027  \n",
       "101436153          7.545094      4.025352  "
      ]
     },
     "execution_count": 12,
     "metadata": {},
     "output_type": "execute_result"
    }
   ],
   "source": [
    "CLV_Historic_only_more_than_one = CLV_Historic[CLV_Historic[\"count\"]!=1]\n",
    "CLV_Historic_only_more_than_one.sort_values(by=\"Total_amount\",ascending=False).head()"
   ]
  },
  {
   "cell_type": "code",
   "execution_count": 13,
   "id": "0555103a-937d-45d3-84bf-6b97b5668dc2",
   "metadata": {},
   "outputs": [
    {
     "name": "stdout",
     "output_type": "stream",
     "text": [
      "count    39865.000000\n",
      "mean         3.247722\n",
      "std          4.699702\n",
      "min          0.990000\n",
      "25%          0.990000\n",
      "50%          2.990000\n",
      "99%         19.990000\n",
      "max         99.990000\n",
      "Name: Total_amount, dtype: float64\n",
      "repetitive\n",
      "count    29993.000000\n",
      "mean        27.593447\n",
      "std         64.767596\n",
      "min          1.980000\n",
      "25%          5.980000\n",
      "50%         12.940000\n",
      "95%         91.954000\n",
      "max       2854.170000\n",
      "Name: Total_amount, dtype: float64\n",
      "count    69858.000000\n",
      "mean        13.700374\n",
      "std         44.258498\n",
      "min          0.990000\n",
      "25%          1.990000\n",
      "50%          3.980000\n",
      "99%        151.928600\n",
      "max       2854.170000\n",
      "Name: Total_amount, dtype: float64\n",
      "count    69858.000000\n",
      "mean        13.700374\n",
      "std         44.258498\n",
      "min          0.990000\n",
      "25%          1.990000\n",
      "50%          3.980000\n",
      "75%          9.990000\n",
      "max       2854.170000\n",
      "Name: Total_amount, dtype: float64\n"
     ]
    }
   ],
   "source": [
    "print(CLV_Historic_one_time_buyers[\"Total_amount\"].describe(percentiles = [.25,.5,.99]))\n",
    "print(\"repetitive\")\n",
    "print(CLV_Historic_only_more_than_one[\"Total_amount\"].describe(percentiles = [.25,.5,.95]))\n",
    "print(CLV_Historic[\"Total_amount\"].describe(percentiles = [.25,.5,.99]))\n",
    "print(CLV_Historic[\"Total_amount\"].describe())"
   ]
  },
  {
   "cell_type": "code",
   "execution_count": 14,
   "id": "3caab4e5-6795-4f27-91d7-71ca2c8b3c06",
   "metadata": {},
   "outputs": [
    {
     "data": {
      "text/plain": [
       "<AxesSubplot:xlabel='Ln_Total_Amount', ylabel='Count'>"
      ]
     },
     "execution_count": 14,
     "metadata": {},
     "output_type": "execute_result"
    },
    {
     "data": {
      "image/png": "[encoded data removed]",
      "text/plain": [
       "<Figure size 1080x360 with 2 Axes>"
      ]
     },
     "metadata": {
      "needs_background": "light"
     },
     "output_type": "display_data"
    }
   ],
   "source": [
    "# grafy s vyuzitim logaritmickej skaly pomocou prirodzeneho logaritmu\n",
    "fig, axes = plt.subplots(1, 2, figsize=(15, 5), sharey=False,sharex=False)\n",
    "fig.suptitle('Distribúcia peňažných prostriedkov a frekvencie nákupov jednotlivých zákazníkov s využitím logaritmickej mierky')\n",
    "sns.set_theme(style=\"whitegrid\",palette=\"colorblind\")\n",
    "sns.histplot(x=CLV_Historic[\"Ln_Frequency\"],ax=axes[0],bins=10) # all buyers\n",
    "sns.histplot(x=CLV_Historic[\"Ln_Total_Amount\"],ax=axes[1],bins=10)"
   ]
  },
  {
   "cell_type": "code",
   "execution_count": 15,
   "id": "dbc5d3be-1a42-49c4-a796-1f48eb6f310e",
   "metadata": {},
   "outputs": [
    {
     "name": "stdout",
     "output_type": "stream",
     "text": [
      "Average_amount: 13.7\n",
      "Average Frequency: 2.31\n",
      "Retention rate: 42.93%\n",
      "Churn rate: 57.0%\n"
     ]
    }
   ],
   "source": [
    "Average_amount = round(np.mean(CLV_Historic.Total_amount),2)\n",
    "print(f\"Average_amount: {Average_amount}\")\n",
    "\n",
    "Frequency = round(np.mean(CLV_Historic.Frequency),2)\n",
    "print(f\"Average Frequency: {Frequency}\")\n",
    "\n",
    "Retention_rate = CLV_Historic[CLV_Historic[\"Frequency\"]>1].shape[0]/CLV_Historic.shape[0]\n",
    "churn = round(1-Retention_rate,2)\n",
    "print(f\"Retention rate: {round(Retention_rate*100,2)}%\")\n",
    "print(f\"Churn rate: {round(churn*100,2)}%\")"
   ]
  },
  {
   "cell_type": "code",
   "execution_count": 16,
   "id": "70a3ae37-c3d2-4536-99e2-554f2f6bb1d5",
   "metadata": {},
   "outputs": [
    {
     "name": "stdout",
     "output_type": "stream",
     "text": [
      "customer lifetime value: 2.78\n"
     ]
    }
   ],
   "source": [
    "Profit_margin = 0.05\n",
    "\n",
    "CLV = round((Average_amount*Frequency/churn)*Profit_margin,2)\n",
    "print(f\"customer lifetime value: {CLV}\")"
   ]
  },
  {
   "cell_type": "markdown",
   "id": "8ad3a2fa-49e6-4117-8ab9-f6a451f5fa41",
   "metadata": {},
   "source": [
    "# Cohort model with months "
   ]
  },
  {
   "cell_type": "code",
   "execution_count": 17,
   "id": "fc634d70-8150-410b-8af2-7df4a3738d63",
   "metadata": {},
   "outputs": [
    {
     "data": {
      "text/html": [
       "<div>\n",
       "<style scoped>\n",
       "    .dataframe tbody tr th:only-of-type {\n",
       "        vertical-align: middle;\n",
       "    }\n",
       "\n",
       "    .dataframe tbody tr th {\n",
       "        vertical-align: top;\n",
       "    }\n",
       "\n",
       "    .dataframe thead th {\n",
       "        text-align: right;\n",
       "    }\n",
       "</style>\n",
       "<table border=\"1\" class=\"dataframe\">\n",
       "  <thead>\n",
       "    <tr style=\"text-align: right;\">\n",
       "      <th></th>\n",
       "      <th>Start_month</th>\n",
       "      <th>Frequency</th>\n",
       "      <th>Total_amount</th>\n",
       "    </tr>\n",
       "    <tr>\n",
       "      <th>account_id</th>\n",
       "      <th></th>\n",
       "      <th></th>\n",
       "      <th></th>\n",
       "    </tr>\n",
       "  </thead>\n",
       "  <tbody>\n",
       "    <tr>\n",
       "      <th>100000423</th>\n",
       "      <td>3</td>\n",
       "      <td>1</td>\n",
       "      <td>9.99</td>\n",
       "    </tr>\n",
       "    <tr>\n",
       "      <th>100001374</th>\n",
       "      <td>3</td>\n",
       "      <td>1</td>\n",
       "      <td>2.99</td>\n",
       "    </tr>\n",
       "    <tr>\n",
       "      <th>100001463</th>\n",
       "      <td>3</td>\n",
       "      <td>1</td>\n",
       "      <td>0.99</td>\n",
       "    </tr>\n",
       "    <tr>\n",
       "      <th>100001654</th>\n",
       "      <td>3</td>\n",
       "      <td>3</td>\n",
       "      <td>6.99</td>\n",
       "    </tr>\n",
       "    <tr>\n",
       "      <th>100003092</th>\n",
       "      <td>3</td>\n",
       "      <td>1</td>\n",
       "      <td>0.99</td>\n",
       "    </tr>\n",
       "    <tr>\n",
       "      <th>...</th>\n",
       "      <td>...</td>\n",
       "      <td>...</td>\n",
       "      <td>...</td>\n",
       "    </tr>\n",
       "    <tr>\n",
       "      <th>99995053</th>\n",
       "      <td>3</td>\n",
       "      <td>2</td>\n",
       "      <td>22.98</td>\n",
       "    </tr>\n",
       "    <tr>\n",
       "      <th>99995304</th>\n",
       "      <td>3</td>\n",
       "      <td>2</td>\n",
       "      <td>12.98</td>\n",
       "    </tr>\n",
       "    <tr>\n",
       "      <th>99996154</th>\n",
       "      <td>3</td>\n",
       "      <td>1</td>\n",
       "      <td>2.99</td>\n",
       "    </tr>\n",
       "    <tr>\n",
       "      <th>99997303</th>\n",
       "      <td>3</td>\n",
       "      <td>1</td>\n",
       "      <td>1.99</td>\n",
       "    </tr>\n",
       "    <tr>\n",
       "      <th>99998783</th>\n",
       "      <td>3</td>\n",
       "      <td>1</td>\n",
       "      <td>1.99</td>\n",
       "    </tr>\n",
       "  </tbody>\n",
       "</table>\n",
       "<p>69858 rows × 3 columns</p>\n",
       "</div>"
      ],
      "text/plain": [
       "            Start_month  Frequency  Total_amount\n",
       "account_id                                      \n",
       "100000423             3          1          9.99\n",
       "100001374             3          1          2.99\n",
       "100001463             3          1          0.99\n",
       "100001654             3          3          6.99\n",
       "100003092             3          1          0.99\n",
       "...                 ...        ...           ...\n",
       "99995053              3          2         22.98\n",
       "99995304              3          2         12.98\n",
       "99996154              3          1          2.99\n",
       "99997303              3          1          1.99\n",
       "99998783              3          1          1.99\n",
       "\n",
       "[69858 rows x 3 columns]"
      ]
     },
     "execution_count": 17,
     "metadata": {},
     "output_type": "execute_result"
    }
   ],
   "source": [
    "customer = df.groupby(\"account_id\").agg({\"event_time\": lambda x: x.min().month,\n",
    "                                         \"account_id\": lambda x: len(x),\n",
    "                                         \"amount\": lambda x: np.sum(x)})\n",
    "                                        \n",
    "customer.columns = [\"Start_month\", \"Frequency\", \"Total_amount\"]\n",
    "\n",
    "customer"
   ]
  },
  {
   "cell_type": "code",
   "execution_count": 18,
   "id": "ee5a2646-fc8c-4a60-8cd4-cf1b54ab95dc",
   "metadata": {},
   "outputs": [],
   "source": [
    "CLV_monthly = []\n",
    "\n",
    "for i in range(2,9):\n",
    "    customer_m = customer[customer[\"Start_month\"]==i]\n",
    "\n",
    "    Average_sales = np.mean(customer_m[\"Total_amount\"])\n",
    "    \n",
    "    Purchase_frequency = np.mean(customer_m[\"Frequency\"])\n",
    "                                            \n",
    "    Retention_rate = customer_m[customer_m[\"Frequency\"]>1].shape[0]/customer_m.shape[0]\n",
    "    churn_rate = 1-Retention_rate\n",
    "    \n",
    "    CLV=round((Average_sales*Purchase_frequency/churn_rate)*Profit_margin,2)\n",
    "                                 \n",
    "    CLV_monthly.append(CLV)"
   ]
  },
  {
   "cell_type": "code",
   "execution_count": 19,
   "id": "8b79af3f-9dcd-4789-9d69-219eaa5294f0",
   "metadata": {},
   "outputs": [
    {
     "data": {
      "text/plain": [
       "[2.95, 2.61, 2.93, 2.58, 2.47, 2.9, 2.91]"
      ]
     },
     "execution_count": 19,
     "metadata": {},
     "output_type": "execute_result"
    }
   ],
   "source": [
    "CLV_monthly"
   ]
  },
  {
   "cell_type": "code",
   "execution_count": 20,
   "id": "9ced94e1-5be4-4f7d-90e0-f34f74df2e6b",
   "metadata": {},
   "outputs": [],
   "source": [
    "months=[\"Február\",\"Marec\",\"Apríl\",\"Máj\",\"Jún\",\"Júl\",\"August\"]"
   ]
  },
  {
   "cell_type": "code",
   "execution_count": 21,
   "id": "362c1f56-7ae7-45f5-9393-7ab638963e1e",
   "metadata": {},
   "outputs": [
    {
     "name": "stdout",
     "output_type": "stream",
     "text": [
      "    Mesiac   CLV\n",
      "0  Február  2.95\n",
      "1    Marec  2.61\n",
      "2    Apríl  2.93\n",
      "3      Máj  2.58\n",
      "4      Jún  2.47\n",
      "5      Júl  2.90\n",
      "6   August  2.91\n"
     ]
    }
   ],
   "source": [
    "print(pd.DataFrame(zip(months,CLV_monthly),columns = [\"Mesiac\",\"CLV\"]))"
   ]
  },
  {
   "cell_type": "code",
   "execution_count": 22,
   "id": "7f459a32-3510-4d36-8dbf-2cc096e87cf9",
   "metadata": {},
   "outputs": [
    {
     "data": {
      "text/plain": [
       "<AxesSubplot:xlabel='[Február, Marec, Apríl, Máj, Jún, Júl, August]'>"
      ]
     },
     "execution_count": 22,
     "metadata": {},
     "output_type": "execute_result"
    },
    {
     "data": {
      "image/png": "[encoded data removed]",
      "text/plain": [
       "<Figure size 432x288 with 1 Axes>"
      ]
     },
     "metadata": {},
     "output_type": "display_data"
    }
   ],
   "source": [
    "histogram = pd.DataFrame(zip(months,CLV_monthly),columns = [\"Mesiac\",\"CLV\"])\n",
    "histogram.plot(kind=\"bar\",xlabel=histogram[\"Mesiac\"])"
   ]
  }
 ],
 "metadata": {
  "kernelspec": {
   "display_name": "Python 3 (ipykernel)",
   "language": "python",
   "name": "python3"
  },
  "language_info": {
   "codemirror_mode": {
    "name": "ipython",
    "version": 3
   },
   "file_extension": ".py",
   "mimetype": "text/x-python",
   "name": "python",
   "nbconvert_exporter": "python",
   "pygments_lexer": "ipython3",
   "version": "3.9.0"
  }
 },
 "nbformat": 4,
 "nbformat_minor": 5
}
